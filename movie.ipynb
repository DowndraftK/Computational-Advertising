{
 "cells": [
  {
   "cell_type": "markdown",
   "metadata": {},
   "source": [
    "### 协同过滤、内容过滤、混合推荐——年龄、职业、电影类别"
   ]
  },
  {
   "cell_type": "code",
   "execution_count": 13,
   "metadata": {},
   "outputs": [],
   "source": [
    "import pandas as pd\n",
    "from surprise import Dataset, Reader, SVD, accuracy\n",
    "from surprise.model_selection import cross_validate, train_test_split\n",
    "from sklearn.preprocessing import LabelEncoder\n",
    "from sklearn.feature_extraction.text import TfidfVectorizer\n",
    "from sklearn.metrics.pairwise import cosine_similarity\n",
    "import numpy as np\n",
    "from sklearn.metrics import precision_score, recall_score, f1_score\n",
    "from surprise import KNNWithMeans\n",
    "import torch\n",
    "import torch.nn as nn\n",
    "import torch.optim as optim\n",
    "from torch.utils.data import Dataset, DataLoader\n",
    "from sklearn.metrics import mean_squared_error, mean_absolute_error, precision_score, recall_score, f1_score\n",
    "from math import sqrt\n",
    "from tqdm import tqdm\n",
    "import matplotlib.pyplot as plt"
   ]
  },
  {
   "cell_type": "code",
   "execution_count": 14,
   "metadata": {},
   "outputs": [],
   "source": [
    "# 加载数据\n",
    "ratings = pd.read_csv('./ml-1m/ratings.dat', sep='::', header=None, names=['UserID', 'MovieID', 'Rating', 'Timestamp'], engine='python')\n",
    "movies = pd.read_csv('./ml-1m/movies.dat', sep='::', header=None, names=['MovieID', 'Title', 'Genres'], engine='python', encoding='ISO-8859-1')\n",
    "users = pd.read_csv('./ml-1m/users.dat', sep='::', header=None, names=['UserID', 'Gender', 'Age', 'Occupation', 'Zip-code'], engine='python')"
   ]
  },
  {
   "cell_type": "code",
   "execution_count": 15,
   "metadata": {},
   "outputs": [],
   "source": [
    "from surprise import Dataset, Reader, SVD, accuracy\n",
    "# 数据预处理\n",
    "age_encoder = LabelEncoder()\n",
    "occupation_encoder = LabelEncoder()\n",
    "users['Age'] = age_encoder.fit_transform(users['Age'])\n",
    "users['Occupation'] = occupation_encoder.fit_transform(users['Occupation'])\n",
    "\n",
    "# 合并用户数据和评分数据\n",
    "merged_data = pd.merge(ratings, users, on='UserID')\n",
    "\n",
    "# 加载Surprise数据集\n",
    "reader = Reader(rating_scale=(1, 5))\n",
    "data = Dataset.load_from_df(merged_data[['UserID', 'MovieID', 'Rating']], reader)\n",
    "\n",
    "# 训练和测试数据集划分\n",
    "trainset, testset = train_test_split(data, test_size=0.2)"
   ]
  },
  {
   "cell_type": "code",
   "execution_count": 16,
   "metadata": {},
   "outputs": [
    {
     "name": "stdout",
     "output_type": "stream",
     "text": [
      "RMSE: 0.8740\n",
      "SVD - RMSE:  0.8740474928868466\n",
      "MAE:  0.6862\n",
      "SVD - MAE:  0.6862480827750904\n"
     ]
    }
   ],
   "source": [
    "# 使用SVD进行协同过滤\n",
    "svd = SVD()\n",
    "svd.fit(trainset)\n",
    "\n",
    "# 评价SVD模型性能\n",
    "predictions = svd.test(testset)\n",
    "print(\"SVD - RMSE: \", accuracy.rmse(predictions))\n",
    "print(\"SVD - MAE: \", accuracy.mae(predictions))"
   ]
  },
  {
   "cell_type": "code",
   "execution_count": 17,
   "metadata": {},
   "outputs": [],
   "source": [
    "# 使用TF-IDF进行内容过滤\n",
    "tfidf = TfidfVectorizer(stop_words='english')\n",
    "tfidf_matrix = tfidf.fit_transform(movies['Genres'])\n",
    "cosine_sim = cosine_similarity(tfidf_matrix, tfidf_matrix)"
   ]
  },
  {
   "cell_type": "code",
   "execution_count": 18,
   "metadata": {},
   "outputs": [],
   "source": [
    "# 协同过滤推荐\n",
    "def collaborative_filtering_recommendations(user_id, n=10):\n",
    "    user_ratings = ratings[ratings['UserID'] == user_id]\n",
    "    user_watched = user_ratings['MovieID'].tolist()\n",
    "    movie_ids = movies['MovieID'].tolist()\n",
    "    recommendations = []\n",
    "    for movie_id in movie_ids:\n",
    "        if (movie_id not in user_watched):\n",
    "            est = svd.predict(user_id, movie_id).est\n",
    "            recommendations.append((movie_id, est))\n",
    "    recommendations = sorted(recommendations, key=lambda x: x[1], reverse=True)\n",
    "    top_n_recommendations = [(movies[movies['MovieID'] == movie_id]['Title'].values[0], movies[movies['MovieID'] == movie_id]['Genres'].values[0]) for movie_id, _ in recommendations[:n]]\n",
    "    return top_n_recommendations"
   ]
  },
  {
   "cell_type": "code",
   "execution_count": 19,
   "metadata": {},
   "outputs": [],
   "source": [
    "# 内容过滤推荐\n",
    "def content_based_recommendations(title, n=10):\n",
    "    idx = movies[movies['Title'] == title].index[0]\n",
    "    sim_scores = list(enumerate(cosine_sim[idx]))\n",
    "    sim_scores = sorted(sim_scores, key=lambda x: x[1], reverse=True)\n",
    "    top_n_similar = [(movies['Title'].iloc[i[0]], movies['Genres'].iloc[i[0]]) for i in sim_scores[1:n+1]]\n",
    "    return top_n_similar"
   ]
  },
  {
   "cell_type": "code",
   "execution_count": 20,
   "metadata": {},
   "outputs": [],
   "source": [
    "# 混合推荐\n",
    "def hybrid_recommendations(user_id, title, alpha=0.5, n=10):\n",
    "    content_recs = content_based_recommendations(title, n)\n",
    "    collab_recs = collaborative_filtering_recommendations(user_id, n)\n",
    "    \n",
    "    content_recs_set = set(content_recs)\n",
    "    collab_recs_set = set(collab_recs)\n",
    "    \n",
    "    common_recs = content_recs_set.intersection(collab_recs_set)\n",
    "    unique_recs = content_recs_set.union(collab_recs_set) - common_recs\n",
    "    \n",
    "    final_recs = list(common_recs) + list(unique_recs)\n",
    "    return final_recs[:n]"
   ]
  },
  {
   "cell_type": "code",
   "execution_count": 21,
   "metadata": {},
   "outputs": [],
   "source": [
    "content_sim_dict = {}\n",
    "for idx, title in enumerate(movies['Title']):\n",
    "    content_sim_dict[title] = content_based_recommendations(title, 1)"
   ]
  },
  {
   "cell_type": "code",
   "execution_count": 22,
   "metadata": {},
   "outputs": [],
   "source": [
    "# 模型评估\n",
    "def evaluate_collaborative_model():\n",
    "    y_true = []\n",
    "    y_pred = []\n",
    "    for uid, iid, true_r, _ in ratings.itertuples(index=False):\n",
    "        y_true.append(true_r)\n",
    "        y_pred.append(round(svd.predict(uid, iid).est))  # 将预测值四舍五入以转化为离散值\n",
    "    precision = precision_score(y_true, y_pred, average='macro', zero_division=1)\n",
    "    recall = recall_score(y_true, y_pred, average='macro', zero_division=1)\n",
    "    f1 = f1_score(y_true, y_pred, average='macro', zero_division=1)\n",
    "    print(f'Collaborative Filtering - Precision: {precision:.4f}, Recall: {recall:.4f}, F1-Score: {f1:.4f}')\n",
    "    \n",
    "def evaluate_content_based_model():\n",
    "# 由于内容过滤是基于电影的相似性而非用户行为，所以不使用精确度、召回率和F1评分进行评估\n",
    "    pass\n",
    "\n",
    "def evaluate_hybrid_model():\n",
    "    y_true = []\n",
    "    y_pred = []\n",
    "    for uid, iid, true_r, _ in ratings.itertuples(index=False):\n",
    "        # 获取协同过滤的预测值\n",
    "        svd_est = svd.predict(uid, iid).est\n",
    "        movie_title = movies[movies['MovieID'] == iid]['Title'].values[0]\n",
    "        content_est = 5 if movie_title in [rec[0] for rec in content_sim_dict[movie_title]] else 0\n",
    "        \n",
    "        # 计算混合预测值\n",
    "        hybrid_est = (svd_est + content_est) / 2\n",
    "        y_true.append(true_r)\n",
    "        y_pred.append(round(hybrid_est))\n",
    "    precision = precision_score(y_true, y_pred, average='macro', zero_division=1)\n",
    "    recall = recall_score(y_true, y_pred, average='macro', zero_division=1)\n",
    "    f1 = f1_score(y_true, y_pred, average='macro', zero_division=1)\n",
    "    print(f'Hybrid Model - Precision: {precision:.4f}, Recall: {recall:.4f}, F1-Score: {f1:.4f}')"
   ]
  },
  {
   "cell_type": "code",
   "execution_count": 23,
   "metadata": {},
   "outputs": [
    {
     "name": "stdout",
     "output_type": "stream",
     "text": [
      "协同过滤推荐: [('Lawrence of Arabia (1962)', 'Adventure|War'), ('Double Indemnity (1944)', 'Crime|Film-Noir'), ('Sanjuro (1962)', 'Action|Adventure'), ('Rear Window (1954)', 'Mystery|Thriller'), ('Seven Samurai (The Magnificent Seven) (Shichinin no samurai) (1954)', 'Action|Drama'), (\"Singin' in the Rain (1952)\", 'Musical|Romance'), ('Dersu Uzala (1974)', 'Adventure|Drama'), ('Sunset Blvd. (a.k.a. Sunset Boulevard) (1950)', 'Film-Noir'), ('Notorious (1946)', 'Film-Noir|Romance|Thriller'), ('Palm Beach Story, The (1942)', 'Comedy')]\n",
      "内容过滤推荐: [('Aladdin and the King of Thieves (1996)', \"Animation|Children's|Comedy\"), ('American Tail, An (1986)', \"Animation|Children's|Comedy\"), ('American Tail: Fievel Goes West, An (1991)', \"Animation|Children's|Comedy\"), ('Rugrats Movie, The (1998)', \"Animation|Children's|Comedy\"), (\"Bug's Life, A (1998)\", \"Animation|Children's|Comedy\"), ('Toy Story 2 (1999)', \"Animation|Children's|Comedy\"), ('Saludos Amigos (1943)', \"Animation|Children's|Comedy\"), ('Chicken Run (2000)', \"Animation|Children's|Comedy\"), ('Adventures of Rocky and Bullwinkle, The (2000)', \"Animation|Children's|Comedy\"), ('Balto (1995)', \"Animation|Children's\")]\n",
      "混合推荐: [('Seven Samurai (The Magnificent Seven) (Shichinin no samurai) (1954)', 'Action|Drama'), ('Sanjuro (1962)', 'Action|Adventure'), ('American Tail: Fievel Goes West, An (1991)', \"Animation|Children's|Comedy\"), (\"Bug's Life, A (1998)\", \"Animation|Children's|Comedy\"), ('Adventures of Rocky and Bullwinkle, The (2000)', \"Animation|Children's|Comedy\"), ('Sunset Blvd. (a.k.a. Sunset Boulevard) (1950)', 'Film-Noir'), ('American Tail, An (1986)', \"Animation|Children's|Comedy\"), ('Lawrence of Arabia (1962)', 'Adventure|War'), ('Rear Window (1954)', 'Mystery|Thriller'), ('Double Indemnity (1944)', 'Crime|Film-Noir')]\n",
      "Collaborative Filtering - Precision: 0.6243, Recall: 0.4274, F1-Score: 0.4489\n",
      "Hybrid Model - Precision: 0.2074, Recall: 0.3674, F1-Score: 0.1035\n"
     ]
    }
   ],
   "source": [
    "# 示例使用\n",
    "user_id = 1\n",
    "movie_title = \"Toy Story (1995)\"\n",
    "print(\"协同过滤推荐:\", collaborative_filtering_recommendations(user_id))\n",
    "print(\"内容过滤推荐:\", content_based_recommendations(movie_title))\n",
    "print(\"混合推荐:\", hybrid_recommendations(user_id, movie_title))\n",
    "\n",
    "# 评估模型\n",
    "evaluate_collaborative_model()\n",
    "evaluate_content_based_model()\n",
    "evaluate_hybrid_model()"
   ]
  },
  {
   "cell_type": "code",
   "execution_count": 24,
   "metadata": {},
   "outputs": [],
   "source": [
    "# ratings = pd.read_csv('./ml-1m/ratings.dat', sep='::', header=None, names=['UserID', 'MovieID', 'Rating', 'Timestamp'], engine='python')\n",
    "# movies = pd.read_csv('./ml-1m/movies.dat', sep='::', header=None, names=['MovieID', 'Title', 'Genres'], engine='python', encoding='ISO-8859-1')\n",
    "# users = pd.read_csv('./ml-1m/users.dat', sep='::', header=None, names=['UserID', 'Gender', 'Age', 'Occupation', 'Zip-code'], engine='python')"
   ]
  },
  {
   "cell_type": "code",
   "execution_count": 25,
   "metadata": {},
   "outputs": [],
   "source": [
    "import torch\n",
    "torch.cuda.empty_cache()"
   ]
  },
  {
   "cell_type": "markdown",
   "metadata": {},
   "source": [
    "### 神经网络——年龄、职业"
   ]
  },
  {
   "cell_type": "code",
   "execution_count": 26,
   "metadata": {},
   "outputs": [],
   "source": [
    "# 加载数据\n",
    "ratings = pd.read_csv('./ml-1m/ratings.dat', sep='::', header=None, names=['UserID', 'MovieID', 'Rating', 'Timestamp'], engine='python')\n",
    "movies = pd.read_csv('./ml-1m/movies.dat', sep='::', header=None, names=['MovieID', 'Title', 'Genres'], engine='python', encoding='ISO-8859-1')\n",
    "users = pd.read_csv('./ml-1m/users.dat', sep='::', header=None, names=['UserID', 'Gender', 'Age', 'Occupation', 'Zip-code'], engine='python')"
   ]
  },
  {
   "cell_type": "code",
   "execution_count": 27,
   "metadata": {},
   "outputs": [],
   "source": [
    "# 数据预处理\n",
    "# 将用户的年龄和职业转化为类别特征\n",
    "age_encoder = LabelEncoder()\n",
    "occupation_encoder = LabelEncoder()\n",
    "gender_encoder = LabelEncoder()\n",
    "users['Age'] = age_encoder.fit_transform(users['Age'])\n",
    "users['Occupation'] = occupation_encoder.fit_transform(users['Occupation'])\n",
    "users['Gender'] = gender_encoder.fit_transform(users['Gender'])\n",
    "\n",
    "# 合并用户数据和评分数据\n",
    "merged_data = pd.merge(ratings, users, on='UserID')\n",
    "\n",
    "# 创建用户-物品评分矩阵\n",
    "user_movie_matrix = ratings.pivot(index='UserID', columns='MovieID', values='Rating').fillna(0)\n",
    "user_movie_matrix_np = user_movie_matrix.values"
   ]
  },
  {
   "cell_type": "code",
   "execution_count": 28,
   "metadata": {},
   "outputs": [
    {
     "name": "stderr",
     "output_type": "stream",
     "text": [
      "Epoch 1: 100%|██████████| 95/95 [00:00<00:00, 167.09batch/s, loss=0.479]\n"
     ]
    },
    {
     "name": "stdout",
     "output_type": "stream",
     "text": [
      "Epoch 1, Loss: 0.4793\n"
     ]
    },
    {
     "name": "stderr",
     "output_type": "stream",
     "text": [
      "Epoch 2: 100%|██████████| 95/95 [00:00<00:00, 259.51batch/s, loss=0.414]\n"
     ]
    },
    {
     "name": "stdout",
     "output_type": "stream",
     "text": [
      "Epoch 2, Loss: 0.4145\n"
     ]
    },
    {
     "name": "stderr",
     "output_type": "stream",
     "text": [
      "Epoch 3: 100%|██████████| 95/95 [00:00<00:00, 220.58batch/s, loss=0.392]\n"
     ]
    },
    {
     "name": "stdout",
     "output_type": "stream",
     "text": [
      "Epoch 3, Loss: 0.3922\n"
     ]
    },
    {
     "name": "stderr",
     "output_type": "stream",
     "text": [
      "Epoch 4: 100%|██████████| 95/95 [00:00<00:00, 230.26batch/s, loss=0.381]\n"
     ]
    },
    {
     "name": "stdout",
     "output_type": "stream",
     "text": [
      "Epoch 4, Loss: 0.3807\n"
     ]
    },
    {
     "name": "stderr",
     "output_type": "stream",
     "text": [
      "Epoch 5: 100%|██████████| 95/95 [00:00<00:00, 256.10batch/s, loss=0.373] \n"
     ]
    },
    {
     "name": "stdout",
     "output_type": "stream",
     "text": [
      "Epoch 5, Loss: 0.3732\n"
     ]
    },
    {
     "name": "stderr",
     "output_type": "stream",
     "text": [
      "Epoch 6: 100%|██████████| 95/95 [00:00<00:00, 264.82batch/s, loss=0.367]\n"
     ]
    },
    {
     "name": "stdout",
     "output_type": "stream",
     "text": [
      "Epoch 6, Loss: 0.3673\n"
     ]
    },
    {
     "name": "stderr",
     "output_type": "stream",
     "text": [
      "Epoch 7: 100%|██████████| 95/95 [00:00<00:00, 225.13batch/s, loss=0.362] \n"
     ]
    },
    {
     "name": "stdout",
     "output_type": "stream",
     "text": [
      "Epoch 7, Loss: 0.3623\n"
     ]
    },
    {
     "name": "stderr",
     "output_type": "stream",
     "text": [
      "Epoch 8: 100%|██████████| 95/95 [00:00<00:00, 263.26batch/s, loss=0.358]\n"
     ]
    },
    {
     "name": "stdout",
     "output_type": "stream",
     "text": [
      "Epoch 8, Loss: 0.3583\n"
     ]
    },
    {
     "name": "stderr",
     "output_type": "stream",
     "text": [
      "Epoch 9: 100%|██████████| 95/95 [00:00<00:00, 223.58batch/s, loss=0.355] \n"
     ]
    },
    {
     "name": "stdout",
     "output_type": "stream",
     "text": [
      "Epoch 9, Loss: 0.3546\n"
     ]
    },
    {
     "name": "stderr",
     "output_type": "stream",
     "text": [
      "Epoch 10: 100%|██████████| 95/95 [00:00<00:00, 229.80batch/s, loss=0.351] \n"
     ]
    },
    {
     "name": "stdout",
     "output_type": "stream",
     "text": [
      "Epoch 10, Loss: 0.3513\n"
     ]
    },
    {
     "name": "stderr",
     "output_type": "stream",
     "text": [
      "Epoch 11: 100%|██████████| 95/95 [00:00<00:00, 262.14batch/s, loss=0.35]  \n"
     ]
    },
    {
     "name": "stdout",
     "output_type": "stream",
     "text": [
      "Epoch 11, Loss: 0.3501\n"
     ]
    },
    {
     "name": "stderr",
     "output_type": "stream",
     "text": [
      "Epoch 12: 100%|██████████| 95/95 [00:00<00:00, 226.52batch/s, loss=0.347] \n"
     ]
    },
    {
     "name": "stdout",
     "output_type": "stream",
     "text": [
      "Epoch 12, Loss: 0.3472\n"
     ]
    },
    {
     "name": "stderr",
     "output_type": "stream",
     "text": [
      "Epoch 13: 100%|██████████| 95/95 [00:00<00:00, 233.03batch/s, loss=0.345] \n"
     ]
    },
    {
     "name": "stdout",
     "output_type": "stream",
     "text": [
      "Epoch 13, Loss: 0.3449\n"
     ]
    },
    {
     "name": "stderr",
     "output_type": "stream",
     "text": [
      "Epoch 14: 100%|██████████| 95/95 [00:00<00:00, 257.65batch/s, loss=0.343] \n"
     ]
    },
    {
     "name": "stdout",
     "output_type": "stream",
     "text": [
      "Epoch 14, Loss: 0.3429\n"
     ]
    },
    {
     "name": "stderr",
     "output_type": "stream",
     "text": [
      "Epoch 15: 100%|██████████| 95/95 [00:00<00:00, 223.40batch/s, loss=0.342] \n"
     ]
    },
    {
     "name": "stdout",
     "output_type": "stream",
     "text": [
      "Epoch 15, Loss: 0.3416\n"
     ]
    },
    {
     "name": "stderr",
     "output_type": "stream",
     "text": [
      "Epoch 16: 100%|██████████| 95/95 [00:00<00:00, 233.87batch/s, loss=0.34] \n"
     ]
    },
    {
     "name": "stdout",
     "output_type": "stream",
     "text": [
      "Epoch 16, Loss: 0.3404\n"
     ]
    },
    {
     "name": "stderr",
     "output_type": "stream",
     "text": [
      "Epoch 17: 100%|██████████| 95/95 [00:00<00:00, 253.68batch/s, loss=0.339] \n"
     ]
    },
    {
     "name": "stdout",
     "output_type": "stream",
     "text": [
      "Epoch 17, Loss: 0.3393\n"
     ]
    },
    {
     "name": "stderr",
     "output_type": "stream",
     "text": [
      "Epoch 18: 100%|██████████| 95/95 [00:00<00:00, 227.10batch/s, loss=0.339] \n"
     ]
    },
    {
     "name": "stdout",
     "output_type": "stream",
     "text": [
      "Epoch 18, Loss: 0.3390\n"
     ]
    },
    {
     "name": "stderr",
     "output_type": "stream",
     "text": [
      "Epoch 19: 100%|██████████| 95/95 [00:00<00:00, 238.92batch/s, loss=0.338] \n"
     ]
    },
    {
     "name": "stdout",
     "output_type": "stream",
     "text": [
      "Epoch 19, Loss: 0.3380\n"
     ]
    },
    {
     "name": "stderr",
     "output_type": "stream",
     "text": [
      "Epoch 20: 100%|██████████| 95/95 [00:00<00:00, 270.04batch/s, loss=0.338] \n"
     ]
    },
    {
     "name": "stdout",
     "output_type": "stream",
     "text": [
      "Epoch 20, Loss: 0.3376\n"
     ]
    },
    {
     "name": "stderr",
     "output_type": "stream",
     "text": [
      "Epoch 21: 100%|██████████| 95/95 [00:00<00:00, 239.75batch/s, loss=0.336]\n"
     ]
    },
    {
     "name": "stdout",
     "output_type": "stream",
     "text": [
      "Epoch 21, Loss: 0.3364\n"
     ]
    },
    {
     "name": "stderr",
     "output_type": "stream",
     "text": [
      "Epoch 22: 100%|██████████| 95/95 [00:00<00:00, 263.24batch/s, loss=0.336]\n"
     ]
    },
    {
     "name": "stdout",
     "output_type": "stream",
     "text": [
      "Epoch 22, Loss: 0.3361\n"
     ]
    },
    {
     "name": "stderr",
     "output_type": "stream",
     "text": [
      "Epoch 23: 100%|██████████| 95/95 [00:00<00:00, 266.97batch/s, loss=0.335] \n"
     ]
    },
    {
     "name": "stdout",
     "output_type": "stream",
     "text": [
      "Epoch 23, Loss: 0.3352\n"
     ]
    },
    {
     "name": "stderr",
     "output_type": "stream",
     "text": [
      "Epoch 24: 100%|██████████| 95/95 [00:00<00:00, 245.19batch/s, loss=0.334]\n"
     ]
    },
    {
     "name": "stdout",
     "output_type": "stream",
     "text": [
      "Epoch 24, Loss: 0.3342\n"
     ]
    },
    {
     "name": "stderr",
     "output_type": "stream",
     "text": [
      "Epoch 25: 100%|██████████| 95/95 [00:00<00:00, 281.29batch/s, loss=0.334] \n"
     ]
    },
    {
     "name": "stdout",
     "output_type": "stream",
     "text": [
      "Epoch 25, Loss: 0.3340\n"
     ]
    },
    {
     "name": "stderr",
     "output_type": "stream",
     "text": [
      "Epoch 26: 100%|██████████| 95/95 [00:00<00:00, 230.76batch/s, loss=0.333] \n"
     ]
    },
    {
     "name": "stdout",
     "output_type": "stream",
     "text": [
      "Epoch 26, Loss: 0.3331\n"
     ]
    },
    {
     "name": "stderr",
     "output_type": "stream",
     "text": [
      "Epoch 27: 100%|██████████| 95/95 [00:00<00:00, 235.48batch/s, loss=0.332]\n"
     ]
    },
    {
     "name": "stdout",
     "output_type": "stream",
     "text": [
      "Epoch 27, Loss: 0.3323\n"
     ]
    },
    {
     "name": "stderr",
     "output_type": "stream",
     "text": [
      "Epoch 28: 100%|██████████| 95/95 [00:00<00:00, 278.96batch/s, loss=0.332]\n"
     ]
    },
    {
     "name": "stdout",
     "output_type": "stream",
     "text": [
      "Epoch 28, Loss: 0.3317\n"
     ]
    },
    {
     "name": "stderr",
     "output_type": "stream",
     "text": [
      "Epoch 29: 100%|██████████| 95/95 [00:00<00:00, 233.93batch/s, loss=0.331] \n"
     ]
    },
    {
     "name": "stdout",
     "output_type": "stream",
     "text": [
      "Epoch 29, Loss: 0.3313\n"
     ]
    },
    {
     "name": "stderr",
     "output_type": "stream",
     "text": [
      "Epoch 30: 100%|██████████| 95/95 [00:00<00:00, 246.82batch/s, loss=0.331] \n"
     ]
    },
    {
     "name": "stdout",
     "output_type": "stream",
     "text": [
      "Epoch 30, Loss: 0.3306\n"
     ]
    },
    {
     "name": "stderr",
     "output_type": "stream",
     "text": [
      "Epoch 31: 100%|██████████| 95/95 [00:00<00:00, 265.05batch/s, loss=0.33]  \n"
     ]
    },
    {
     "name": "stdout",
     "output_type": "stream",
     "text": [
      "Epoch 31, Loss: 0.3302\n"
     ]
    },
    {
     "name": "stderr",
     "output_type": "stream",
     "text": [
      "Epoch 32: 100%|██████████| 95/95 [00:00<00:00, 230.97batch/s, loss=0.33] \n"
     ]
    },
    {
     "name": "stdout",
     "output_type": "stream",
     "text": [
      "Epoch 32, Loss: 0.3298\n"
     ]
    },
    {
     "name": "stderr",
     "output_type": "stream",
     "text": [
      "Epoch 33: 100%|██████████| 95/95 [00:00<00:00, 273.17batch/s, loss=0.33]  \n"
     ]
    },
    {
     "name": "stdout",
     "output_type": "stream",
     "text": [
      "Epoch 33, Loss: 0.3295\n"
     ]
    },
    {
     "name": "stderr",
     "output_type": "stream",
     "text": [
      "Epoch 34: 100%|██████████| 95/95 [00:00<00:00, 223.44batch/s, loss=0.329] \n"
     ]
    },
    {
     "name": "stdout",
     "output_type": "stream",
     "text": [
      "Epoch 34, Loss: 0.3289\n"
     ]
    },
    {
     "name": "stderr",
     "output_type": "stream",
     "text": [
      "Epoch 35: 100%|██████████| 95/95 [00:00<00:00, 221.61batch/s, loss=0.329] \n"
     ]
    },
    {
     "name": "stdout",
     "output_type": "stream",
     "text": [
      "Epoch 35, Loss: 0.3292\n"
     ]
    },
    {
     "name": "stderr",
     "output_type": "stream",
     "text": [
      "Epoch 36: 100%|██████████| 95/95 [00:00<00:00, 272.00batch/s, loss=0.328] \n"
     ]
    },
    {
     "name": "stdout",
     "output_type": "stream",
     "text": [
      "Epoch 36, Loss: 0.3281\n"
     ]
    },
    {
     "name": "stderr",
     "output_type": "stream",
     "text": [
      "Epoch 37: 100%|██████████| 95/95 [00:00<00:00, 228.00batch/s, loss=0.328] \n"
     ]
    },
    {
     "name": "stdout",
     "output_type": "stream",
     "text": [
      "Epoch 37, Loss: 0.3276\n"
     ]
    },
    {
     "name": "stderr",
     "output_type": "stream",
     "text": [
      "Epoch 38: 100%|██████████| 95/95 [00:00<00:00, 232.98batch/s, loss=0.327] \n"
     ]
    },
    {
     "name": "stdout",
     "output_type": "stream",
     "text": [
      "Epoch 38, Loss: 0.3270\n"
     ]
    },
    {
     "name": "stderr",
     "output_type": "stream",
     "text": [
      "Epoch 39: 100%|██████████| 95/95 [00:00<00:00, 257.50batch/s, loss=0.327] \n"
     ]
    },
    {
     "name": "stdout",
     "output_type": "stream",
     "text": [
      "Epoch 39, Loss: 0.3267\n"
     ]
    },
    {
     "name": "stderr",
     "output_type": "stream",
     "text": [
      "Epoch 40: 100%|██████████| 95/95 [00:00<00:00, 221.22batch/s, loss=0.326] \n"
     ]
    },
    {
     "name": "stdout",
     "output_type": "stream",
     "text": [
      "Epoch 40, Loss: 0.3261\n"
     ]
    },
    {
     "name": "stderr",
     "output_type": "stream",
     "text": [
      "Epoch 41: 100%|██████████| 95/95 [00:00<00:00, 263.81batch/s, loss=0.325] \n"
     ]
    },
    {
     "name": "stdout",
     "output_type": "stream",
     "text": [
      "Epoch 41, Loss: 0.3254\n"
     ]
    },
    {
     "name": "stderr",
     "output_type": "stream",
     "text": [
      "Epoch 42: 100%|██████████| 95/95 [00:00<00:00, 229.97batch/s, loss=0.325] \n"
     ]
    },
    {
     "name": "stdout",
     "output_type": "stream",
     "text": [
      "Epoch 42, Loss: 0.3255\n"
     ]
    },
    {
     "name": "stderr",
     "output_type": "stream",
     "text": [
      "Epoch 43: 100%|██████████| 95/95 [00:00<00:00, 224.15batch/s, loss=0.325] \n"
     ]
    },
    {
     "name": "stdout",
     "output_type": "stream",
     "text": [
      "Epoch 43, Loss: 0.3252\n"
     ]
    },
    {
     "name": "stderr",
     "output_type": "stream",
     "text": [
      "Epoch 44: 100%|██████████| 95/95 [00:00<00:00, 262.49batch/s, loss=0.325] \n"
     ]
    },
    {
     "name": "stdout",
     "output_type": "stream",
     "text": [
      "Epoch 44, Loss: 0.3246\n"
     ]
    },
    {
     "name": "stderr",
     "output_type": "stream",
     "text": [
      "Epoch 45: 100%|██████████| 95/95 [00:00<00:00, 226.32batch/s, loss=0.325] \n"
     ]
    },
    {
     "name": "stdout",
     "output_type": "stream",
     "text": [
      "Epoch 45, Loss: 0.3247\n"
     ]
    },
    {
     "name": "stderr",
     "output_type": "stream",
     "text": [
      "Epoch 46: 100%|██████████| 95/95 [00:00<00:00, 229.10batch/s, loss=0.324] \n"
     ]
    },
    {
     "name": "stdout",
     "output_type": "stream",
     "text": [
      "Epoch 46, Loss: 0.3244\n"
     ]
    },
    {
     "name": "stderr",
     "output_type": "stream",
     "text": [
      "Epoch 47: 100%|██████████| 95/95 [00:00<00:00, 261.95batch/s, loss=0.324] \n"
     ]
    },
    {
     "name": "stdout",
     "output_type": "stream",
     "text": [
      "Epoch 47, Loss: 0.3235\n"
     ]
    },
    {
     "name": "stderr",
     "output_type": "stream",
     "text": [
      "Epoch 48: 100%|██████████| 95/95 [00:00<00:00, 228.20batch/s, loss=0.323] \n"
     ]
    },
    {
     "name": "stdout",
     "output_type": "stream",
     "text": [
      "Epoch 48, Loss: 0.3228\n"
     ]
    },
    {
     "name": "stderr",
     "output_type": "stream",
     "text": [
      "Epoch 49: 100%|██████████| 95/95 [00:00<00:00, 227.44batch/s, loss=0.322] \n"
     ]
    },
    {
     "name": "stdout",
     "output_type": "stream",
     "text": [
      "Epoch 49, Loss: 0.3224\n"
     ]
    },
    {
     "name": "stderr",
     "output_type": "stream",
     "text": [
      "Epoch 50: 100%|██████████| 95/95 [00:00<00:00, 259.78batch/s, loss=0.323] "
     ]
    },
    {
     "name": "stdout",
     "output_type": "stream",
     "text": [
      "Epoch 50, Loss: 0.3230\n"
     ]
    },
    {
     "name": "stderr",
     "output_type": "stream",
     "text": [
      "\n"
     ]
    }
   ],
   "source": [
    "# 定义Dataset类\n",
    "class AutoencoderDataset(Dataset):\n",
    "    def __init__(self, matrix):\n",
    "        self.matrix = matrix\n",
    "    \n",
    "    def __len__(self):\n",
    "        return len(self.matrix)\n",
    "    \n",
    "    def __getitem__(self, idx):\n",
    "        return torch.tensor(self.matrix[idx], dtype=torch.float)\n",
    "\n",
    "# 定义自编码器模型\n",
    "class Autoencoder(nn.Module):\n",
    "    def __init__(self, input_dim):\n",
    "        super(Autoencoder, self).__init__()\n",
    "        self.encoder = nn.Sequential(\n",
    "            nn.Linear(input_dim, 128),\n",
    "            nn.ReLU(),\n",
    "            nn.Linear(128, 64),\n",
    "            nn.ReLU()\n",
    "        )\n",
    "        self.decoder = nn.Sequential(\n",
    "            nn.Linear(64, 128),\n",
    "            nn.ReLU(),\n",
    "            nn.Linear(128, input_dim)\n",
    "        )\n",
    "    \n",
    "    def forward(self, x):\n",
    "        encoded = self.encoder(x)\n",
    "        decoded = self.decoder(encoded)\n",
    "        return decoded\n",
    "\n",
    "# 设置设备为GPU\n",
    "device = torch.device('cuda' if torch.cuda.is_available() else 'cpu')\n",
    "\n",
    "# 实例化数据集\n",
    "dataset = AutoencoderDataset(user_movie_matrix_np)\n",
    "dataloader = DataLoader(dataset, batch_size=64, shuffle=True)\n",
    "\n",
    "# 实例化模型\n",
    "input_dim = user_movie_matrix_np.shape[1]\n",
    "model = Autoencoder(input_dim).to(device)\n",
    "\n",
    "# 定义损失函数和优化器\n",
    "criterion = nn.MSELoss()\n",
    "optimizer = optim.Adam(model.parameters(), lr=0.001)\n",
    "\n",
    "# 训练模型\n",
    "num_epochs = 50\n",
    "train_losses = []  # 用于存储每个epoch的损失值\n",
    "\n",
    "for epoch in range(num_epochs):\n",
    "    model.train()\n",
    "    train_loss = 0\n",
    "    with tqdm(dataloader, unit=\"batch\") as tepoch:\n",
    "        tepoch.set_description(f\"Epoch {epoch+1}\")\n",
    "        for data in tepoch:\n",
    "            data = data.to(device)\n",
    "            \n",
    "            optimizer.zero_grad()\n",
    "            outputs = model(data)\n",
    "            loss = criterion(outputs, data)\n",
    "            loss.backward()\n",
    "            optimizer.step()\n",
    "            train_loss += loss.item() * data.size(0)\n",
    "            tepoch.set_postfix(loss=train_loss / len(dataloader.dataset))\n",
    "    train_loss /= len(dataloader.dataset)\n",
    "    train_losses.append(train_loss)  # 将当前epoch的损失值添加到列表中\n",
    "    print(f'Epoch {epoch+1}, Loss: {train_loss:.4f}')\n"
   ]
  },
  {
   "cell_type": "code",
   "execution_count": 29,
   "metadata": {},
   "outputs": [
    {
     "data": {
      "image/png": "[encoded data removed]",
      "text/plain": [
       "<Figure size 1000x500 with 1 Axes>"
      ]
     },
     "metadata": {},
     "output_type": "display_data"
    }
   ],
   "source": [
    "plt.figure(figsize=(10, 5))\n",
    "plt.plot(range(1, num_epochs + 1), train_losses, label='Training Loss')\n",
    "plt.xlabel('Epoch')\n",
    "plt.ylabel('Loss')\n",
    "plt.title('Training Loss over Epochs')\n",
    "plt.legend()\n",
    "plt.show()"
   ]
  },
  {
   "cell_type": "code",
   "execution_count": 30,
   "metadata": {},
   "outputs": [
    {
     "name": "stdout",
     "output_type": "stream",
     "text": [
      "RMSE: 0.8747\n",
      "Precision: 0.2436, Recall: 0.2173, F1-Score: 0.2178\n"
     ]
    }
   ],
   "source": [
    "# 评估模型\n",
    "def evaluate_model():\n",
    "    model.eval()\n",
    "    reconstructed = []\n",
    "    with torch.no_grad():\n",
    "        for data in dataloader:\n",
    "            data = data.to(device)\n",
    "            outputs = model(data)\n",
    "            reconstructed.extend(outputs.cpu().numpy())\n",
    "    \n",
    "    reconstructed = np.array(reconstructed)\n",
    "    rmse = sqrt(mean_squared_error(user_movie_matrix_np, reconstructed))\n",
    "    print(f'RMSE: {rmse:.4f}')\n",
    "\n",
    "    # 将原始矩阵和重构矩阵四舍五入到最近的整数，以计算分类指标\n",
    "    y_true = user_movie_matrix_np.flatten()\n",
    "    y_pred = reconstructed.flatten()\n",
    "\n",
    "    y_true = np.round(y_true).clip(1, 5).astype(int)\n",
    "    y_pred = np.round(y_pred).clip(1, 5).astype(int)\n",
    "\n",
    "    precision = precision_score(y_true, y_pred, average='macro', zero_division=1)\n",
    "    recall = recall_score(y_true, y_pred, average='macro', zero_division=1)\n",
    "    f1 = f1_score(y_true, y_pred, average='macro', zero_division=1)\n",
    "\n",
    "    print(f'Precision: {precision:.4f}, Recall: {recall:.4f}, F1-Score: {f1:.4f}')\n",
    "\n",
    "# 评估模型\n",
    "evaluate_model()"
   ]
  },
  {
   "cell_type": "code",
   "execution_count": 31,
   "metadata": {},
   "outputs": [
    {
     "name": "stdout",
     "output_type": "stream",
     "text": [
      "Recommended movies for user 1:\n",
      "                                  Title                               Genres\n",
      "0                     Toy Story (1995)          Animation|Children's|Comedy\n",
      "33                         Babe (1995)              Children's|Comedy|Drama\n",
      "315   Shawshank Redemption, The (1994)                                Drama\n",
      "360              Lion King, The (1994)         Animation|Children's|Musical\n",
      "584                     Aladdin (1992)  Animation|Children's|Comedy|Musical\n",
      "591        Beauty and the Beast (1991)         Animation|Children's|Musical\n",
      "907           Wizard of Oz, The (1939)   Adventure|Children's|Drama|Musical\n",
      "1250         Back to the Future (1985)                        Comedy|Sci-Fi\n",
      "2286              Bug's Life, A (1998)          Animation|Children's|Comedy\n",
      "3045                Toy Story 2 (1999)          Animation|Children's|Comedy\n"
     ]
    }
   ],
   "source": [
    "# 示例使用\n",
    "def recommend_movies(user_id, n=10):\n",
    "    user_index = user_id - 1  # 假设用户ID从1开始\n",
    "    user_vector = torch.tensor(user_movie_matrix_np[user_index], dtype=torch.float).to(device)\n",
    "    with torch.no_grad():\n",
    "        reconstructed_vector = model(user_vector).cpu().numpy()\n",
    "    \n",
    "    recommended_movie_indices = reconstructed_vector.argsort()[-n:][::-1]\n",
    "    recommended_movie_ids = [user_movie_matrix.columns[i] for i in recommended_movie_indices]\n",
    "    recommended_movies = movies[movies['MovieID'].isin(recommended_movie_ids)]\n",
    "    return recommended_movies\n",
    "\n",
    "# 示例使用\n",
    "user_id = 1\n",
    "recommended_movies = recommend_movies(user_id)\n",
    "print(f'Recommended movies for user {user_id}:\\n', recommended_movies[['Title', 'Genres']])"
   ]
  },
  {
   "cell_type": "markdown",
   "metadata": {},
   "source": [
    "### 基于嵌入层的协同过滤方法"
   ]
  },
  {
   "cell_type": "code",
   "execution_count": 32,
   "metadata": {},
   "outputs": [],
   "source": [
    "# 1. 加载并预处理数据\n",
    "ratings = pd.read_csv('./ml-1m/ratings.dat', sep='::', header=None, names=['UserID', 'MovieID', 'Rating', 'Timestamp'], engine='python')\n",
    "movies = pd.read_csv('./ml-1m/movies.dat', sep='::', header=None, names=['MovieID', 'Title', 'Genres'], engine='python', encoding='ISO-8859-1')\n",
    "users = pd.read_csv('./ml-1m/users.dat', sep='::', header=None, names=['UserID', 'Gender', 'Age', 'Occupation', 'Zip-code'], engine='python')"
   ]
  },
  {
   "cell_type": "code",
   "execution_count": 33,
   "metadata": {},
   "outputs": [],
   "source": [
    "# 编码用户特征\n",
    "user_id_enc = LabelEncoder()\n",
    "users['UserID'] = user_id_enc.fit_transform(users['UserID'])\n",
    "\n",
    "gender_enc = LabelEncoder()\n",
    "users['Gender'] = gender_enc.fit_transform(users['Gender'])\n",
    "\n",
    "age_enc = LabelEncoder()\n",
    "users['Age'] = age_enc.fit_transform(users['Age'])\n",
    "\n",
    "occupation_enc = LabelEncoder()\n",
    "users['Occupation'] = occupation_enc.fit_transform(users['Occupation'])\n",
    "\n",
    "# 编码电影特征\n",
    "movie_id_enc = LabelEncoder()\n",
    "movies['MovieID'] = movie_id_enc.fit_transform(movies['MovieID'])\n",
    "\n",
    "# 处理电影类型并保存原始类型\n",
    "original_genres = movies['Genres'].apply(lambda x: x.split('|')[0])\n",
    "genre_enc = LabelEncoder()\n",
    "movies['Genres'] = genre_enc.fit_transform(original_genres)\n",
    "\n",
    "# 创建电影ID到类型的映射\n",
    "movie_id_to_genre = dict(zip(movies['MovieID'], original_genres))\n",
    "\n",
    "# 合并数据\n",
    "data = pd.merge(pd.merge(ratings, users), movies)"
   ]
  },
  {
   "cell_type": "code",
   "execution_count": 34,
   "metadata": {},
   "outputs": [],
   "source": [
    "# 2. 构建特征向量\n",
    "user_features = data[['UserID', 'Gender', 'Age', 'Occupation']].values\n",
    "movie_features = data[['MovieID', 'Genres']].values\n",
    "ratings = data['Rating'].values"
   ]
  },
  {
   "cell_type": "code",
   "execution_count": 35,
   "metadata": {},
   "outputs": [],
   "source": [
    "\n",
    "# 3. 自定义数据集类\n",
    "class MovieLensDataset(Dataset):\n",
    "    def __init__(self, user_features, movie_features, ratings):\n",
    "        self.user_features = torch.tensor(user_features, dtype=torch.long)\n",
    "        self.movie_features = torch.tensor(movie_features, dtype=torch.long)\n",
    "        self.ratings = torch.tensor(ratings, dtype=torch.float32)\n",
    "\n",
    "    def __len__(self):\n",
    "        return len(self.ratings)\n",
    "\n",
    "    def __getitem__(self, idx):\n",
    "        return self.user_features[idx], self.movie_features[idx], self.ratings[idx]\n",
    "\n",
    "# 4. 构建神经网络模型\n",
    "class RecommenderNet(nn.Module):\n",
    "    def __init__(self, num_users, num_movies, num_genders, num_ages, num_occupations, num_genres, embedding_size=50):\n",
    "        super(RecommenderNet, self).__init__()\n",
    "        self.user_embedding = nn.Embedding(num_users, embedding_size)\n",
    "        self.gender_embedding = nn.Embedding(num_genders, embedding_size // 4)\n",
    "        self.age_embedding = nn.Embedding(num_ages, embedding_size // 4)\n",
    "        self.occupation_embedding = nn.Embedding(num_occupations, embedding_size // 4)\n",
    "        self.movie_embedding = nn.Embedding(num_movies, embedding_size)\n",
    "        self.genre_embedding = nn.Embedding(num_genres, embedding_size // 4)\n",
    "\n",
    "        total_embedding_size = embedding_size + (embedding_size // 4) * 3 + embedding_size + (embedding_size // 4)\n",
    "        self.fc1 = nn.Linear(total_embedding_size, 128)\n",
    "        self.fc2 = nn.Linear(128, 64)\n",
    "        self.fc3 = nn.Linear(64, 1)\n",
    "\n",
    "    def forward(self, user, movie):\n",
    "        user_embed = torch.cat([\n",
    "            self.user_embedding(user[:, 0]),\n",
    "            self.gender_embedding(user[:, 1]),\n",
    "            self.age_embedding(user[:, 2]),\n",
    "            self.occupation_embedding(user[:, 3])\n",
    "        ], dim=-1)\n",
    "        \n",
    "        movie_embed = torch.cat([\n",
    "            self.movie_embedding(movie[:, 0]),\n",
    "            self.genre_embedding(movie[:, 1])\n",
    "        ], dim=-1)\n",
    "\n",
    "        x = torch.cat([user_embed, movie_embed], dim=-1)\n",
    "        x = torch.relu(self.fc1(x))\n",
    "        x = torch.relu(self.fc2(x))\n",
    "        x = self.fc3(x)\n",
    "        return x\n",
    "\n",
    "# 5. 数据准备\n",
    "num_users = len(user_id_enc.classes_)\n",
    "num_movies = len(movie_id_enc.classes_)\n",
    "num_genders = len(gender_enc.classes_)\n",
    "num_ages = len(age_enc.classes_)\n",
    "num_occupations = len(occupation_enc.classes_)\n",
    "num_genres = len(genre_enc.classes_)\n",
    "\n",
    "dataset = MovieLensDataset(user_features, movie_features, ratings)\n",
    "train_size = int(0.8 * len(dataset))\n",
    "val_size = len(dataset) - train_size\n",
    "train_dataset, val_dataset = torch.utils.data.random_split(dataset, [train_size, val_size])\n",
    "\n",
    "train_loader = DataLoader(train_dataset, batch_size=64, shuffle=True)\n",
    "val_loader = DataLoader(val_dataset, batch_size=64, shuffle=False)\n",
    "\n",
    "# 6. 模型训练\n",
    "device = torch.device('cuda' if torch.cuda.is_available() else 'cpu')\n",
    "model = RecommenderNet(num_users, num_movies, num_genders, num_ages, num_occupations, num_genres).to(device)\n",
    "criterion = nn.MSELoss()\n",
    "optimizer = optim.Adam(model.parameters(), lr=0.001)\n",
    "\n",
    "def train_model(model, train_loader, val_loader, criterion, optimizer, epochs=10):\n",
    "    train_losses = []\n",
    "    val_losses = []\n",
    "\n",
    "    for epoch in range(epochs):\n",
    "        model.train()\n",
    "        train_loss = 0.0\n",
    "        for user, movie, rating in train_loader:\n",
    "            user, movie, rating = user.to(device), movie.to(device), rating.to(device)\n",
    "            optimizer.zero_grad()\n",
    "            outputs = model(user, movie).squeeze()\n",
    "            loss = criterion(outputs, rating)\n",
    "            loss.backward()\n",
    "            optimizer.step()\n",
    "            train_loss += loss.item() * user.size(0)\n",
    "        \n",
    "        train_loss /= len(train_loader.dataset)\n",
    "        train_losses.append(train_loss)\n",
    "        \n",
    "        model.eval()\n",
    "        val_loss = 0.0\n",
    "        y_true = []\n",
    "        y_pred = []\n",
    "        with torch.no_grad():\n",
    "            for user, movie, rating in val_loader:\n",
    "                user, movie, rating = user.to(device), movie.to(device), rating.to(device)\n",
    "                outputs = model(user, movie).squeeze()\n",
    "                loss = criterion(outputs, rating)\n",
    "                val_loss += loss.item() * user.size(0)\n",
    "                y_true.extend(rating.cpu().numpy())\n",
    "                y_pred.extend(outputs.cpu().numpy())\n",
    "        \n",
    "        val_loss /= len(val_loader.dataset)\n",
    "        val_losses.append(val_loss)\n",
    "        \n",
    "        print(f'Epoch {epoch+1}/{epochs}, Train Loss: {train_loss:.4f}, Val Loss: {val_loss:.4f}')\n",
    "        \n",
    "    plt.figure(figsize=(10, 5))\n",
    "    plt.plot(range(1, epochs + 1), train_losses, label='Train Loss')\n",
    "    plt.plot(range(1, epochs + 1), val_losses, label='Val Loss')\n",
    "    plt.xlabel('Epoch')\n",
    "    plt.ylabel('Loss')\n",
    "    plt.title('Train and Val Loss over Epochs')\n",
    "    plt.legend()\n",
    "    plt.show()\n",
    "\n",
    "    return y_true, y_pred\n",
    "\n",
    "def calculate_metrics(y_true, y_pred, threshold=3.5):\n",
    "    y_pred_class = [1 if pred >= threshold else 0 for pred in y_pred]\n",
    "    y_true_class = [1 if true >= threshold else 0 for true in y_true]\n",
    "    \n",
    "    rmse = mean_squared_error(y_true, y_pred, squared=False)\n",
    "    mae = mean_absolute_error(y_true, y_pred)\n",
    "    precision = precision_score(y_true_class, y_pred_class, zero_division=1)\n",
    "    recall = recall_score(y_true_class, y_pred_class, zero_division=1)\n",
    "    f1 = f1_score(y_true_class, y_pred_class, zero_division=1)\n",
    "    \n",
    "    print(f'RMSE: {rmse:.4f}')\n",
    "    print(f'MAE: {mae:.4f}')\n",
    "    print(f'Precision: {precision:.4f}')\n",
    "    print(f'Recall: {recall:.4f}')\n",
    "    print(f'F1 Score: {f1:.4f}')\n",
    "\n",
    "# train_model(model, train_loader, val_loader, criterion, optimizer, epochs=10)"
   ]
  },
  {
   "cell_type": "code",
   "execution_count": 36,
   "metadata": {},
   "outputs": [
    {
     "name": "stdout",
     "output_type": "stream",
     "text": [
      "Epoch 1/10, Train Loss: 0.9691, Val Loss: 0.8581\n",
      "Epoch 2/10, Train Loss: 0.8441, Val Loss: 0.8447\n",
      "Epoch 3/10, Train Loss: 0.8202, Val Loss: 0.8403\n",
      "Epoch 4/10, Train Loss: 0.8018, Val Loss: 0.8315\n",
      "Epoch 5/10, Train Loss: 0.7863, Val Loss: 0.8198\n",
      "Epoch 6/10, Train Loss: 0.7715, Val Loss: 0.8139\n",
      "Epoch 7/10, Train Loss: 0.7569, Val Loss: 0.8126\n",
      "Epoch 8/10, Train Loss: 0.7413, Val Loss: 0.8124\n",
      "Epoch 9/10, Train Loss: 0.7256, Val Loss: 0.8212\n",
      "Epoch 10/10, Train Loss: 0.7095, Val Loss: 0.8179\n"
     ]
    },
    {
     "data": {
      "image/png": "[encoded data removed]",
      "text/plain": [
       "<Figure size 1000x500 with 1 Axes>"
      ]
     },
     "metadata": {},
     "output_type": "display_data"
    },
    {
     "name": "stdout",
     "output_type": "stream",
     "text": [
      "RMSE: 0.9044\n",
      "MAE: 0.7117\n",
      "Precision: 0.7456\n",
      "Recall: 0.7898\n",
      "F1 Score: 0.7671\n"
     ]
    }
   ],
   "source": [
    "# 示例调用\n",
    "y_true, y_pred = train_model(model, train_loader, val_loader, criterion, optimizer, epochs=10)\n",
    "calculate_metrics(y_true, y_pred)"
   ]
  },
  {
   "cell_type": "code",
   "execution_count": 37,
   "metadata": {},
   "outputs": [],
   "source": [
    "# 7. 进行推荐\n",
    "def recommend_movies(model, user_id, num_recommendations=10):\n",
    "    model.eval()\n",
    "    user_data = np.array([[user_id, users[users['UserID'] == user_id]['Gender'].values[0], users[users['UserID'] == user_id]['Age'].values[0], users[users['UserID'] == user_id]['Occupation'].values[0]]])\n",
    "    user_data = torch.tensor(user_data, dtype=torch.long).to(device)\n",
    "    \n",
    "    movie_ids = movies['MovieID'].values\n",
    "    movie_genres = movies['Genres'].values\n",
    "    movie_data = np.array(list(zip(movie_ids, movie_genres)))\n",
    "    movie_data = torch.tensor(movie_data, dtype=torch.long).to(device)\n",
    "    \n",
    "    with torch.no_grad():\n",
    "        predictions = model(user_data.repeat(len(movie_ids), 1), movie_data).cpu().numpy().flatten()\n",
    "    \n",
    "    top_movie_indices = predictions.argsort()[-num_recommendations:][::-1]\n",
    "    recommended_movies = movies.iloc[top_movie_indices]\n",
    "    recommended_movies['Genres'] = recommended_movies['MovieID'].map(movie_id_to_genre)\n",
    "    return recommended_movies\n"
   ]
  },
  {
   "cell_type": "code",
   "execution_count": 38,
   "metadata": {},
   "outputs": [
    {
     "name": "stdout",
     "output_type": "stream",
     "text": [
      "                                                  Title      Genres\n",
      "2028             Something Wicked This Way Comes (1983)  Children's\n",
      "1223       Rosencrantz and Guildenstern Are Dead (1990)      Comedy\n",
      "668                                   Barbarella (1968)   Adventure\n",
      "2503                  10 Things I Hate About You (1999)      Comedy\n",
      "356                               I Love Trouble (1994)      Action\n",
      "318   Strawberry and Chocolate (Fresa y chocolate) (...       Drama\n",
      "1291                          Santa with Muscles (1996)      Comedy\n",
      "2905                                        Bats (1999)      Horror\n",
      "1224                                   Manhattan (1979)      Comedy\n",
      "260                            Ladybird Ladybird (1994)       Drama\n"
     ]
    },
    {
     "name": "stderr",
     "output_type": "stream",
     "text": [
      "C:\\Users\\funny\\AppData\\Local\\Temp\\ipykernel_26588\\374433771.py:17: SettingWithCopyWarning: \n",
      "A value is trying to be set on a copy of a slice from a DataFrame.\n",
      "Try using .loc[row_indexer,col_indexer] = value instead\n",
      "\n",
      "See the caveats in the documentation: https://pandas.pydata.org/pandas-docs/stable/user_guide/indexing.html#returning-a-view-versus-a-copy\n",
      "  recommended_movies['Genres'] = recommended_movies['MovieID'].map(movie_id_to_genre)\n"
     ]
    }
   ],
   "source": [
    "user_id = 1  # 示例用户ID\n",
    "recommended_movies = recommend_movies(model, user_id)\n",
    "print(recommended_movies[['Title', 'Genres']])"
   ]
  },
  {
   "cell_type": "markdown",
   "metadata": {},
   "source": [
    "### 协调过滤、内容过滤、混合推荐——年龄、性别、职业、电影类型"
   ]
  },
  {
   "cell_type": "code",
   "execution_count": 39,
   "metadata": {},
   "outputs": [
    {
     "name": "stdout",
     "output_type": "stream",
     "text": [
      "RMSE: 0.8733\n",
      "RMSE:  0.8733030259487443\n",
      "MAE:  0.6857\n",
      "MAE:  0.6857427117213\n",
      "协同过滤推荐: [(\"It's a Wonderful Life (1946)\", 'Drama'), ('Sanjuro (1962)', 'Action|Adventure'), ('Casablanca (1942)', 'Drama|Romance|War'), ('For All Mankind (1989)', 'Documentary'), ('Palm Beach Story, The (1942)', 'Comedy'), ('Killer, The (Die xue shuang xiong) (1989)', 'Action|Thriller'), ('Dersu Uzala (1974)', 'Adventure|Drama'), ('Paths of Glory (1957)', 'Drama|War'), ('October Sky (1999)', 'Drama'), ('On the Beach (1959)', 'Drama')]\n",
      "内容过滤推荐: [('Aladdin and the King of Thieves (1996)', \"Animation|Children's|Comedy\"), ('American Tail, An (1986)', \"Animation|Children's|Comedy\"), ('American Tail: Fievel Goes West, An (1991)', \"Animation|Children's|Comedy\"), ('Rugrats Movie, The (1998)', \"Animation|Children's|Comedy\"), (\"Bug's Life, A (1998)\", \"Animation|Children's|Comedy\"), ('Toy Story 2 (1999)', \"Animation|Children's|Comedy\"), ('Saludos Amigos (1943)', \"Animation|Children's|Comedy\"), ('Chicken Run (2000)', \"Animation|Children's|Comedy\"), ('Adventures of Rocky and Bullwinkle, The (2000)', \"Animation|Children's|Comedy\"), ('Balto (1995)', \"Animation|Children's\")]\n",
      "混合推荐: [('Sanjuro (1962)', 'Action|Adventure'), ('American Tail: Fievel Goes West, An (1991)', \"Animation|Children's|Comedy\"), (\"Bug's Life, A (1998)\", \"Animation|Children's|Comedy\"), ('Adventures of Rocky and Bullwinkle, The (2000)', \"Animation|Children's|Comedy\"), ('Paths of Glory (1957)', 'Drama|War'), ('American Tail, An (1986)', \"Animation|Children's|Comedy\"), ('Palm Beach Story, The (1942)', 'Comedy'), ('For All Mankind (1989)', 'Documentary'), ('Balto (1995)', \"Animation|Children's\"), ('Casablanca (1942)', 'Drama|Romance|War')]\n",
      "Collaborative Filtering - Precision: 0.5208, Recall: 0.3470, F1-Score: 0.3576\n",
      "Content-Based Filtering - Precision: 0.5070, Recall: 0.5061, F1-Score: 0.4695\n",
      "Hybrid Model - Precision: 0.2072, Recall: 0.3723, F1-Score: 0.1584\n"
     ]
    }
   ],
   "source": [
    "import pandas as pd\n",
    "from surprise import Dataset, Reader, SVD, accuracy\n",
    "from surprise.model_selection import train_test_split\n",
    "from sklearn.preprocessing import LabelEncoder\n",
    "from sklearn.feature_extraction.text import TfidfVectorizer\n",
    "from sklearn.metrics.pairwise import cosine_similarity\n",
    "from sklearn.metrics import precision_score, recall_score, f1_score\n",
    "import numpy as np\n",
    "\n",
    "# 加载数据\n",
    "ratings = pd.read_csv('./ml-1m/ratings.dat', sep='::', header=None, names=['UserID', 'MovieID', 'Rating', 'Timestamp'], engine='python')\n",
    "movies = pd.read_csv('./ml-1m/movies.dat', sep='::', header=None, names=['MovieID', 'Title', 'Genres'], engine='python', encoding='ISO-8859-1')\n",
    "users = pd.read_csv('./ml-1m/users.dat', sep='::', header=None, names=['UserID', 'Gender', 'Age', 'Occupation', 'Zip-code'], engine='python')\n",
    "\n",
    "# 数据预处理\n",
    "age_encoder = LabelEncoder()\n",
    "occupation_encoder = LabelEncoder()\n",
    "gender_encoder = LabelEncoder()\n",
    "users['Age'] = age_encoder.fit_transform(users['Age'])\n",
    "users['Occupation'] = occupation_encoder.fit_transform(users['Occupation'])\n",
    "users['Gender'] = gender_encoder.fit_transform(users['Gender'])\n",
    "\n",
    "# 使用TF-IDF对电影的类型进行编码\n",
    "tfidf = TfidfVectorizer(stop_words='english')\n",
    "tfidf_matrix = tfidf.fit_transform(movies['Genres']).toarray()\n",
    "\n",
    "# 将TF-IDF矩阵转换为DataFrame，以便后续操作\n",
    "tfidf_df = pd.DataFrame(tfidf_matrix, index=movies['MovieID'])\n",
    "\n",
    "# 计算电影类型相似度矩阵\n",
    "cosine_sim = cosine_similarity(tfidf_matrix)\n",
    "\n",
    "# 合并用户数据、评分数据和电影类型数据\n",
    "merged_data = pd.merge(ratings, users, on='UserID')\n",
    "merged_data = pd.merge(merged_data, movies[['MovieID', 'Genres']], on='MovieID')\n",
    "merged_data = pd.merge(merged_data, tfidf_df, left_on='MovieID', right_index=True)\n",
    "\n",
    "# 加载Surprise数据集\n",
    "reader = Reader(rating_scale=(1, 5))\n",
    "data = Dataset.load_from_df(merged_data[['UserID', 'MovieID', 'Rating']], reader)\n",
    "\n",
    "# 训练和测试数据集划分\n",
    "trainset, testset = train_test_split(data, test_size=0.2)\n",
    "\n",
    "# 使用SVD进行协同过滤\n",
    "svd = SVD()\n",
    "svd.fit(trainset)\n",
    "\n",
    "# 评价模型性能\n",
    "predictions = svd.test(testset)\n",
    "print(\"RMSE: \", accuracy.rmse(predictions))\n",
    "print(\"MAE: \", accuracy.mae(predictions))\n",
    "\n",
    "# 协同过滤推荐\n",
    "def collaborative_filtering_recommendations(user_id, n=10):\n",
    "    user_ratings = ratings[ratings['UserID'] == user_id]\n",
    "    user_watched = user_ratings['MovieID'].tolist()\n",
    "    movie_ids = movies['MovieID'].tolist()\n",
    "    recommendations = []\n",
    "    for movie_id in movie_ids:\n",
    "        if movie_id not in user_watched:\n",
    "            est = svd.predict(user_id, movie_id).est\n",
    "            recommendations.append((movie_id, est))\n",
    "    recommendations = sorted(recommendations, key=lambda x: x[1], reverse=True)\n",
    "    top_n_recommendations = [(movies[movies['MovieID'] == movie_id]['Title'].values[0], movies[movies['MovieID'] == movie_id]['Genres'].values[0]) for movie_id, _ in recommendations[:n]]\n",
    "    return top_n_recommendations\n",
    "\n",
    "# 内容过滤推荐（使用缓存）\n",
    "content_sim_cache = {}\n",
    "\n",
    "def content_based_recommendations(title, n=10):\n",
    "    if title in content_sim_cache:\n",
    "        return content_sim_cache[title]\n",
    "    idx = movies[movies['Title'] == title].index[0]\n",
    "    sim_scores = list(enumerate(cosine_sim[idx]))\n",
    "    sim_scores = sorted(sim_scores, key=lambda x: x[1], reverse=True)\n",
    "    top_n_similar = [(movies['Title'].iloc[i[0]], movies['Genres'].iloc[i[0]]) for i in sim_scores[1:n+1]]\n",
    "    content_sim_cache[title] = top_n_similar\n",
    "    return top_n_similar\n",
    "\n",
    "# 混合推荐\n",
    "def hybrid_recommendations(user_id, title, alpha=0.5, n=10):\n",
    "    content_recs = content_based_recommendations(title, n)\n",
    "    collab_recs = collaborative_filtering_recommendations(user_id, n)\n",
    "    \n",
    "    content_recs_set = set(content_recs)\n",
    "    collab_recs_set = set(collab_recs)\n",
    "    \n",
    "    common_recs = content_recs_set.intersection(collab_recs_set)\n",
    "    unique_recs = content_recs_set.union(collab_recs_set) - common_recs\n",
    "    \n",
    "    final_recs = list(common_recs) + list(unique_recs)\n",
    "    return final_recs[:n]\n",
    "\n",
    "# 模型评估\n",
    "def evaluate_collaborative_model():\n",
    "    y_true = []\n",
    "    y_pred = []\n",
    "    for uid, iid, true_r in testset:\n",
    "        y_true.append(true_r)\n",
    "        y_pred.append(round(svd.predict(uid, iid).est))  # 将预测值四舍五入以转化为离散值\n",
    "    precision = precision_score(y_true, y_pred, average='macro', zero_division=1)\n",
    "    recall = recall_score(y_true, y_pred, average='macro', zero_division=1)\n",
    "    f1 = f1_score(y_true, y_pred, average='macro', zero_division=1)\n",
    "    print(f'Collaborative Filtering - Precision: {precision:.4f}, Recall: {recall:.4f}, F1-Score: {f1:.4f}')\n",
    "\n",
    "def evaluate_content_based_model():\n",
    "    y_true = []\n",
    "    y_pred = []\n",
    "    for uid, iid, true_r in testset:\n",
    "        movie_title = movies[movies['MovieID'] == iid]['Title'].values[0]\n",
    "        recommendations = content_based_recommendations(movie_title, 10)\n",
    "        recommended_movie_ids = [movies[movies['Title'] == rec[0]]['MovieID'].values[0] for rec in recommendations]\n",
    "        if iid in recommended_movie_ids:\n",
    "            y_pred.append(1)\n",
    "        else:\n",
    "            y_pred.append(0)\n",
    "        y_true.append(1 if true_r >= 3.5 else 0)\n",
    "    \n",
    "    precision = precision_score(y_true, y_pred, average='macro', zero_division=1)\n",
    "    recall = recall_score(y_true, y_pred, average='macro', zero_division=1)\n",
    "    f1 = f1_score(y_true, y_pred, average='macro', zero_division=1)\n",
    "    print(f'Content-Based Filtering - Precision: {precision:.4f}, Recall: {recall:.4f}, F1-Score: {f1:.4f}')\n",
    "\n",
    "def evaluate_hybrid_model():\n",
    "    y_true = []\n",
    "    y_pred = []\n",
    "    for uid, iid, true_r in testset:\n",
    "        # 获取协同过滤的预测值\n",
    "        svd_est = svd.predict(uid, iid).est\n",
    "        movie_title = movies[movies['MovieID'] == iid]['Title'].values[0]\n",
    "        content_recs = content_based_recommendations(movie_title, 10)\n",
    "        content_est = 5 if movie_title in [rec[0] for rec in content_recs] else 0\n",
    "        \n",
    "        # 计算混合预测值\n",
    "        hybrid_est = (svd_est + content_est) / 2\n",
    "        y_true.append(true_r)\n",
    "        y_pred.append(round(hybrid_est))\n",
    "    \n",
    "    precision = precision_score(y_true, y_pred, average='macro', zero_division=1)\n",
    "    recall = recall_score(y_true, y_pred, average='macro', zero_division=1)\n",
    "    f1 = f1_score(y_true, y_pred, average='macro', zero_division=1)\n",
    "    print(f'Hybrid Model - Precision: {precision:.4f}, Recall: {recall:.4f}, F1-Score: {f1:.4f}')\n",
    "\n",
    "# 示例使用\n",
    "user_id = 1\n",
    "movie_title = \"Toy Story (1995)\"\n",
    "print(\"协同过滤推荐:\", collaborative_filtering_recommendations(user_id))\n",
    "print(\"内容过滤推荐:\", content_based_recommendations(movie_title))\n",
    "print(\"混合推荐:\", hybrid_recommendations(user_id, movie_title))\n",
    "\n",
    "# 评估模型\n",
    "evaluate_collaborative_model()\n",
    "evaluate_content_based_model()\n",
    "evaluate_hybrid_model()"
   ]
  },
  {
   "cell_type": "code",
   "execution_count": 40,
   "metadata": {},
   "outputs": [
    {
     "name": "stdout",
     "output_type": "stream",
     "text": [
      "Epoch 1/10, Train Loss: 0.9713, Val Loss: 0.8833, RMSE: 0.9398, MAE: 0.7338, Precision: 0.8118, Recall: 0.5186, F1 Score: 0.6329\n",
      "Epoch 2/10, Train Loss: 0.8457, Val Loss: 0.8389, RMSE: 0.9159, MAE: 0.7241, Precision: 0.8442, Recall: 0.4108, F1 Score: 0.5526\n",
      "Epoch 3/10, Train Loss: 0.8225, Val Loss: 0.8302, RMSE: 0.9112, MAE: 0.7162, Precision: 0.8396, Recall: 0.4489, F1 Score: 0.5850\n",
      "Epoch 4/10, Train Loss: 0.8058, Val Loss: 0.8290, RMSE: 0.9105, MAE: 0.7130, Precision: 0.8320, Recall: 0.4851, F1 Score: 0.6129\n",
      "Epoch 5/10, Train Loss: 0.7905, Val Loss: 0.8198, RMSE: 0.9055, MAE: 0.7122, Precision: 0.8452, Recall: 0.4353, F1 Score: 0.5747\n",
      "Epoch 6/10, Train Loss: 0.7764, Val Loss: 0.8250, RMSE: 0.9083, MAE: 0.7201, Precision: 0.8618, Recall: 0.3624, F1 Score: 0.5102\n",
      "Epoch 7/10, Train Loss: 0.7631, Val Loss: 0.8182, RMSE: 0.9046, MAE: 0.7113, Precision: 0.8467, Recall: 0.4303, F1 Score: 0.5706\n",
      "Epoch 8/10, Train Loss: 0.7487, Val Loss: 0.8183, RMSE: 0.9046, MAE: 0.7112, Precision: 0.8457, Recall: 0.4358, F1 Score: 0.5752\n",
      "Epoch 9/10, Train Loss: 0.7335, Val Loss: 0.8271, RMSE: 0.9094, MAE: 0.7102, Precision: 0.8357, Recall: 0.4837, F1 Score: 0.6127\n",
      "Epoch 10/10, Train Loss: 0.7180, Val Loss: 0.8263, RMSE: 0.9090, MAE: 0.7112, Precision: 0.8392, Recall: 0.4662, F1 Score: 0.5994\n",
      "                                                  Title       Genres\n",
      "1802                   Friend of the Deceased, A (1997)       Comedy\n",
      "557                   Killer (Bulletproof Heart) (1994)     Thriller\n",
      "3338  Carriers Are Waiting, The (Les Convoyeurs Atte...       Comedy\n",
      "3656                                American Pop (1981)    Animation\n",
      "150                               Addiction, The (1995)       Horror\n",
      "598                       Great Day in Harlem, A (1994)  Documentary\n",
      "326                          Tales from the Hood (1995)       Comedy\n",
      "1210                                 Raging Bull (1980)        Drama\n",
      "3517                              Idolmaker, The (1980)        Drama\n",
      "746       Carmen Miranda: Bananas Is My Business (1994)  Documentary\n"
     ]
    },
    {
     "name": "stderr",
     "output_type": "stream",
     "text": [
      "C:\\Users\\funny\\AppData\\Local\\Temp\\ipykernel_26588\\4275657357.py:189: SettingWithCopyWarning: \n",
      "A value is trying to be set on a copy of a slice from a DataFrame.\n",
      "Try using .loc[row_indexer,col_indexer] = value instead\n",
      "\n",
      "See the caveats in the documentation: https://pandas.pydata.org/pandas-docs/stable/user_guide/indexing.html#returning-a-view-versus-a-copy\n",
      "  recommended_movies['Genres'] = recommended_movies['MovieID'].map(movie_id_to_genre)\n"
     ]
    }
   ],
   "source": [
    "import pandas as pd\n",
    "import numpy as np\n",
    "from sklearn.preprocessing import LabelEncoder\n",
    "from sklearn.model_selection import train_test_split\n",
    "import torch\n",
    "import torch.nn as nn\n",
    "import torch.optim as optim\n",
    "from torch.utils.data import Dataset, DataLoader\n",
    "from sklearn.metrics import mean_squared_error, mean_absolute_error, precision_score, recall_score, f1_score\n",
    "\n",
    "import pandas as pd\n",
    "import torch\n",
    "import torch.nn as nn\n",
    "import torch.optim as optim\n",
    "from torch.utils.data import Dataset, DataLoader\n",
    "from sklearn.preprocessing import LabelEncoder\n",
    "from sklearn.metrics import mean_squared_error, mean_absolute_error, precision_score, recall_score, f1_score\n",
    "import numpy as np\n",
    "\n",
    "# 1. 加载并预处理数据\n",
    "ratings = pd.read_csv('./ml-1m/ratings.dat', sep='::', header=None, names=['UserID', 'MovieID', 'Rating', 'Timestamp'], engine='python')\n",
    "movies = pd.read_csv('./ml-1m/movies.dat', sep='::', header=None, names=['MovieID', 'Title', 'Genres'], engine='python', encoding='ISO-8859-1')\n",
    "users = pd.read_csv('./ml-1m/users.dat', sep='::', header=None, names=['UserID', 'Gender', 'Age', 'Occupation', 'Zip-code'], engine='python')\n",
    "\n",
    "# 编码用户特征\n",
    "user_id_enc = LabelEncoder()\n",
    "users['UserID'] = user_id_enc.fit_transform(users['UserID'])\n",
    "\n",
    "gender_enc = LabelEncoder()\n",
    "users['Gender'] = gender_enc.fit_transform(users['Gender'])\n",
    "\n",
    "age_enc = LabelEncoder()\n",
    "users['Age'] = age_enc.fit_transform(users['Age'])\n",
    "\n",
    "occupation_enc = LabelEncoder()\n",
    "users['Occupation'] = occupation_enc.fit_transform(users['Occupation'])\n",
    "\n",
    "# 编码电影特征\n",
    "movie_id_enc = LabelEncoder()\n",
    "movies['MovieID'] = movie_id_enc.fit_transform(movies['MovieID'])\n",
    "\n",
    "# 处理电影类型并保存原始类型\n",
    "original_genres = movies['Genres'].apply(lambda x: x.split('|')[0])\n",
    "genre_enc = LabelEncoder()\n",
    "movies['Genres'] = genre_enc.fit_transform(original_genres)\n",
    "\n",
    "# 创建电影ID到类型的映射\n",
    "movie_id_to_genre = dict(zip(movies['MovieID'], original_genres))\n",
    "\n",
    "# 合并数据\n",
    "data = pd.merge(pd.merge(ratings, users), movies)\n",
    "\n",
    "# 2. 构建特征向量\n",
    "user_features = data[['UserID', 'Gender', 'Age', 'Occupation']].values\n",
    "movie_features = data[['MovieID', 'Genres']].values\n",
    "ratings = data['Rating'].values\n",
    "\n",
    "# 3. 自定义数据集类\n",
    "class MovieLensDataset(Dataset):\n",
    "    def __init__(self, user_features, movie_features, ratings):\n",
    "        self.user_features = torch.tensor(user_features, dtype=torch.long)\n",
    "        self.movie_features = torch.tensor(movie_features, dtype=torch.long)\n",
    "        self.ratings = torch.tensor(ratings, dtype=torch.float32)\n",
    "\n",
    "    def __len__(self):\n",
    "        return len(self.ratings)\n",
    "\n",
    "    def __getitem__(self, idx):\n",
    "        return self.user_features[idx], self.movie_features[idx], self.ratings[idx]\n",
    "\n",
    "# 4. 构建神经网络模型\n",
    "class RecommenderNet(nn.Module):\n",
    "    def __init__(self, num_users, num_movies, num_genders, num_ages, num_occupations, num_genres, embedding_size=50):\n",
    "        super(RecommenderNet, self).__init__()\n",
    "        self.user_embedding = nn.Embedding(num_users, embedding_size)\n",
    "        self.gender_embedding = nn.Embedding(num_genders, embedding_size // 4)\n",
    "        self.age_embedding = nn.Embedding(num_ages, embedding_size // 4)\n",
    "        self.occupation_embedding = nn.Embedding(num_occupations, embedding_size // 4)\n",
    "        self.movie_embedding = nn.Embedding(num_movies, embedding_size)\n",
    "        self.genre_embedding = nn.Embedding(num_genres, embedding_size // 4)\n",
    "\n",
    "        total_embedding_size = embedding_size + (embedding_size // 4) * 3 + embedding_size + (embedding_size // 4)\n",
    "        self.fc1 = nn.Linear(total_embedding_size, 128)\n",
    "        self.fc2 = nn.Linear(128, 64)\n",
    "        self.fc3 = nn.Linear(64, 1)\n",
    "\n",
    "    def forward(self, user, movie):\n",
    "        user_embed = torch.cat([\n",
    "            self.user_embedding(user[:, 0]),\n",
    "            self.gender_embedding(user[:, 1]),\n",
    "            self.age_embedding(user[:, 2]),\n",
    "            self.occupation_embedding(user[:, 3])\n",
    "        ], dim=-1)\n",
    "        \n",
    "        movie_embed = torch.cat([\n",
    "            self.movie_embedding(movie[:, 0]),\n",
    "            self.genre_embedding(movie[:, 1])\n",
    "        ], dim=-1)\n",
    "\n",
    "        x = torch.cat([user_embed, movie_embed], dim=-1)\n",
    "        x = torch.relu(self.fc1(x))\n",
    "        x = torch.relu(self.fc2(x))\n",
    "        x = self.fc3(x)\n",
    "        return x\n",
    "\n",
    "# 5. 数据准备\n",
    "num_users = len(user_id_enc.classes_)\n",
    "num_movies = len(movie_id_enc.classes_)\n",
    "num_genders = len(gender_enc.classes_)\n",
    "num_ages = len(age_enc.classes_)\n",
    "num_occupations = len(occupation_enc.classes_)\n",
    "num_genres = len(genre_enc.classes_)\n",
    "\n",
    "dataset = MovieLensDataset(user_features, movie_features, ratings)\n",
    "train_size = int(0.8 * len(dataset))\n",
    "val_size = len(dataset) - train_size\n",
    "train_dataset, val_dataset = torch.utils.data.random_split(dataset, [train_size, val_size])\n",
    "\n",
    "train_loader = DataLoader(train_dataset, batch_size=64, shuffle=True)\n",
    "val_loader = DataLoader(val_dataset, batch_size=64, shuffle=False)\n",
    "\n",
    "# 6. 模型训练\n",
    "device = torch.device('cuda' if torch.cuda.is_available() else 'cpu')\n",
    "model = RecommenderNet(num_users, num_movies, num_genders, num_ages, num_occupations, num_genres).to(device)\n",
    "criterion = nn.MSELoss()\n",
    "optimizer = optim.Adam(model.parameters(), lr=0.001)\n",
    "\n",
    "def train_model(model, train_loader, val_loader, criterion, optimizer, epochs=10):\n",
    "    for epoch in range(epochs):\n",
    "        model.train()\n",
    "        train_loss = 0.0\n",
    "        for user, movie, rating in train_loader:\n",
    "            user, movie, rating = user.to(device), movie.to(device), rating.to(device)\n",
    "            optimizer.zero_grad()\n",
    "            outputs = model(user, movie).squeeze()\n",
    "            loss = criterion(outputs, rating)\n",
    "            loss.backward()\n",
    "            optimizer.step()\n",
    "            train_loss += loss.item() * user.size(0)\n",
    "        \n",
    "        train_loss /= len(train_loader.dataset)\n",
    "        \n",
    "        model.eval()\n",
    "        val_loss = 0.0\n",
    "        all_preds = []\n",
    "        all_targets = []\n",
    "        with torch.no_grad():\n",
    "            for user, movie, rating in val_loader:\n",
    "                user, movie, rating = user.to(device), movie.to(device), rating.to(device)\n",
    "                outputs = model(user, movie).squeeze()\n",
    "                loss = criterion(outputs, rating)\n",
    "                val_loss += loss.item() * user.size(0)\n",
    "                all_preds.append(outputs.cpu().numpy())\n",
    "                all_targets.append(rating.cpu().numpy())\n",
    "        \n",
    "        val_loss /= len(val_loader.dataset)\n",
    "        all_preds = np.concatenate(all_preds)\n",
    "        all_targets = np.concatenate(all_targets)\n",
    "        rmse = np.sqrt(mean_squared_error(all_targets, all_preds))\n",
    "        mae = mean_absolute_error(all_targets, all_preds)\n",
    "        \n",
    "        # 将评分转换为二分类任务的标签（例如，评分 >= 4 为正类，否则为负类）\n",
    "        binary_targets = (all_targets >= 4).astype(int)\n",
    "        binary_preds = (all_preds >= 4).astype(int)\n",
    "        precision = precision_score(binary_targets, binary_preds)\n",
    "        recall = recall_score(binary_targets, binary_preds)\n",
    "        f1 = f1_score(binary_targets, binary_preds)\n",
    "        \n",
    "        print(f'Epoch {epoch+1}/{epochs}, Train Loss: {train_loss:.4f}, Val Loss: {val_loss:.4f}, RMSE: {rmse:.4f}, MAE: {mae:.4f}, Precision: {precision:.4f}, Recall: {recall:.4f}, F1 Score: {f1:.4f}')\n",
    "\n",
    "train_model(model, train_loader, val_loader, criterion, optimizer, epochs=10)\n",
    "\n",
    "# 7. 进行推荐\n",
    "def recommend_movies(model, user_id, num_recommendations=10):\n",
    "    model.eval()\n",
    "    user_data = np.array([[user_id, users[users['UserID'] == user_id]['Gender'].values[0], users[users['UserID'] == user_id]['Age'].values[0], users[users['UserID'] == user_id]['Occupation'].values[0]]])\n",
    "    user_data = torch.tensor(user_data, dtype=torch.long).to(device)\n",
    "    \n",
    "    movie_ids = movies['MovieID'].values\n",
    "    movie_genres = movies['Genres'].values\n",
    "    movie_data = np.array(list(zip(movie_ids, movie_genres)))\n",
    "    movie_data = torch.tensor(movie_data, dtype=torch.long).to(device)\n",
    "    \n",
    "    with torch.no_grad():\n",
    "        predictions = model(user_data.repeat(len(movie_ids), 1), movie_data).cpu().numpy().flatten()\n",
    "    \n",
    "    top_movie_indices = predictions.argsort()[-num_recommendations:][::-1]\n",
    "    recommended_movies = movies.iloc[top_movie_indices]\n",
    "    recommended_movies['Genres'] = recommended_movies['MovieID'].map(movie_id_to_genre)\n",
    "    return recommended_movies\n",
    "\n",
    "user_id = 1  # 示例用户ID\n",
    "recommended_movies = recommend_movies(model, user_id)\n",
    "print(recommended_movies[['Title', 'Genres']])\n",
    "\n"
   ]
  },
  {
   "cell_type": "code",
   "execution_count": 41,
   "metadata": {},
   "outputs": [
    {
     "name": "stderr",
     "output_type": "stream",
     "text": [
      "C:\\Users\\funny\\AppData\\Local\\Temp\\ipykernel_26588\\4275657357.py:189: SettingWithCopyWarning: \n",
      "A value is trying to be set on a copy of a slice from a DataFrame.\n",
      "Try using .loc[row_indexer,col_indexer] = value instead\n",
      "\n",
      "See the caveats in the documentation: https://pandas.pydata.org/pandas-docs/stable/user_guide/indexing.html#returning-a-view-versus-a-copy\n",
      "  recommended_movies['Genres'] = recommended_movies['MovieID'].map(movie_id_to_genre)\n"
     ]
    },
    {
     "data": {
      "text/html": [
       "<div>\n",
       "<style scoped>\n",
       "    .dataframe tbody tr th:only-of-type {\n",
       "        vertical-align: middle;\n",
       "    }\n",
       "\n",
       "    .dataframe tbody tr th {\n",
       "        vertical-align: top;\n",
       "    }\n",
       "\n",
       "    .dataframe thead th {\n",
       "        text-align: right;\n",
       "    }\n",
       "</style>\n",
       "<table border=\"1\" class=\"dataframe\">\n",
       "  <thead>\n",
       "    <tr style=\"text-align: right;\">\n",
       "      <th></th>\n",
       "      <th>Title</th>\n",
       "      <th>Genres</th>\n",
       "    </tr>\n",
       "  </thead>\n",
       "  <tbody>\n",
       "    <tr>\n",
       "      <th>1802</th>\n",
       "      <td>Friend of the Deceased, A (1997)</td>\n",
       "      <td>Comedy</td>\n",
       "    </tr>\n",
       "    <tr>\n",
       "      <th>557</th>\n",
       "      <td>Killer (Bulletproof Heart) (1994)</td>\n",
       "      <td>Thriller</td>\n",
       "    </tr>\n",
       "    <tr>\n",
       "      <th>3338</th>\n",
       "      <td>Carriers Are Waiting, The (Les Convoyeurs Atte...</td>\n",
       "      <td>Comedy</td>\n",
       "    </tr>\n",
       "    <tr>\n",
       "      <th>3656</th>\n",
       "      <td>American Pop (1981)</td>\n",
       "      <td>Animation</td>\n",
       "    </tr>\n",
       "    <tr>\n",
       "      <th>150</th>\n",
       "      <td>Addiction, The (1995)</td>\n",
       "      <td>Horror</td>\n",
       "    </tr>\n",
       "    <tr>\n",
       "      <th>598</th>\n",
       "      <td>Great Day in Harlem, A (1994)</td>\n",
       "      <td>Documentary</td>\n",
       "    </tr>\n",
       "    <tr>\n",
       "      <th>326</th>\n",
       "      <td>Tales from the Hood (1995)</td>\n",
       "      <td>Comedy</td>\n",
       "    </tr>\n",
       "    <tr>\n",
       "      <th>1210</th>\n",
       "      <td>Raging Bull (1980)</td>\n",
       "      <td>Drama</td>\n",
       "    </tr>\n",
       "    <tr>\n",
       "      <th>3517</th>\n",
       "      <td>Idolmaker, The (1980)</td>\n",
       "      <td>Drama</td>\n",
       "    </tr>\n",
       "    <tr>\n",
       "      <th>746</th>\n",
       "      <td>Carmen Miranda: Bananas Is My Business (1994)</td>\n",
       "      <td>Documentary</td>\n",
       "    </tr>\n",
       "  </tbody>\n",
       "</table>\n",
       "</div>"
      ],
      "text/plain": [
       "                                                  Title       Genres\n",
       "1802                   Friend of the Deceased, A (1997)       Comedy\n",
       "557                   Killer (Bulletproof Heart) (1994)     Thriller\n",
       "3338  Carriers Are Waiting, The (Les Convoyeurs Atte...       Comedy\n",
       "3656                                American Pop (1981)    Animation\n",
       "150                               Addiction, The (1995)       Horror\n",
       "598                       Great Day in Harlem, A (1994)  Documentary\n",
       "326                          Tales from the Hood (1995)       Comedy\n",
       "1210                                 Raging Bull (1980)        Drama\n",
       "3517                              Idolmaker, The (1980)        Drama\n",
       "746       Carmen Miranda: Bananas Is My Business (1994)  Documentary"
      ]
     },
     "execution_count": 41,
     "metadata": {},
     "output_type": "execute_result"
    }
   ],
   "source": [
    "user_id = 1  # 示例用户ID\n",
    "recommended_movies = recommend_movies(model, user_id)\n",
    "recommended_movies[['Title', 'Genres']]"
   ]
  }
 ],
 "metadata": {
  "kernelspec": {
   "display_name": "base",
   "language": "python",
   "name": "python3"
  },
  "language_info": {
   "codemirror_mode": {
    "name": "ipython",
    "version": 3
   },
   "file_extension": ".py",
   "mimetype": "text/x-python",
   "name": "python",
   "nbconvert_exporter": "python",
   "pygments_lexer": "ipython3",
   "version": "3.11.7"
  }
 },
 "nbformat": 4,
 "nbformat_minor": 2
}
