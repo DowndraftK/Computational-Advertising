{
 "cells": [
  {
   "cell_type": "code",
   "execution_count": 1,
   "metadata": {},
   "outputs": [
    {
     "name": "stdout",
     "output_type": "stream",
     "text": [
      "RMSE: 0.8798\n",
      "RMSE:  0.8798213069999258\n",
      "MAE:  0.6909\n",
      "MAE:  0.6908804763490413\n",
      "协同过滤推荐: ['Usual Suspects, The (1995)', 'Rear Window (1954)', 'Almost Famous (2000)', 'Sling Blade (1996)', 'Shawshank Redemption, The (1994)', 'Sanjuro (1962)', 'Blade Runner (1982)', 'Seven Samurai (The Magnificent Seven) (Shichinin no samurai) (1954)', \"It's a Wonderful Life (1946)\", 'Sting, The (1973)']\n",
      "内容过滤推荐: ['Aladdin and the King of Thieves (1996)', 'American Tail, An (1986)', 'American Tail: Fievel Goes West, An (1991)', 'Rugrats Movie, The (1998)', \"Bug's Life, A (1998)\", 'Toy Story 2 (1999)', 'Saludos Amigos (1943)', 'Chicken Run (2000)', 'Adventures of Rocky and Bullwinkle, The (2000)', 'Balto (1995)']\n",
      "混合推荐: [\"Bug's Life, A (1998)\", 'Sling Blade (1996)', 'American Tail, An (1986)', 'American Tail: Fievel Goes West, An (1991)', \"It's a Wonderful Life (1946)\", 'Toy Story 2 (1999)', 'Rugrats Movie, The (1998)', 'Seven Samurai (The Magnificent Seven) (Shichinin no samurai) (1954)', 'Chicken Run (2000)', 'Almost Famous (2000)']\n",
      "Precision: 0.6199, Recall: 0.4200, F1-Score: 0.4402\n"
     ]
    }
   ],
   "source": [
    "import pandas as pd\n",
    "from surprise import Dataset, Reader, SVD, accuracy\n",
    "from surprise.model_selection import cross_validate, train_test_split\n",
    "from sklearn.preprocessing import LabelEncoder\n",
    "from sklearn.feature_extraction.text import TfidfVectorizer\n",
    "from sklearn.metrics.pairwise import cosine_similarity\n",
    "import numpy as np\n",
    "from sklearn.metrics import precision_score, recall_score, f1_score\n",
    "from surprise import KNNWithMeans\n",
    "\n",
    "# 加载数据\n",
    "ratings = pd.read_csv('./ml-1m/ratings.dat', sep='::', header=None, names=['UserID', 'MovieID', 'Rating', 'Timestamp'], engine='python')\n",
    "movies = pd.read_csv('./ml-1m/movies.dat', sep='::', header=None, names=['MovieID', 'Title', 'Genres'], engine='python', encoding='ISO-8859-1')\n",
    "users = pd.read_csv('./ml-1m/users.dat', sep='::', header=None, names=['UserID', 'Gender', 'Age', 'Occupation', 'Zip-code'], engine='python')\n",
    "\n",
    "# 数据预处理\n",
    "# 将用户的年龄和职业转化为类别特征\n",
    "age_encoder = LabelEncoder()\n",
    "occupation_encoder = LabelEncoder()\n",
    "users['Age'] = age_encoder.fit_transform(users['Age'])\n",
    "users['Occupation'] = occupation_encoder.fit_transform(users['Occupation'])\n",
    "\n",
    "# 合并用户数据和评分数据\n",
    "merged_data = pd.merge(ratings, users, on='UserID')\n",
    "\n",
    "# 加载Surprise数据集\n",
    "reader = Reader(rating_scale=(1, 5))\n",
    "data = Dataset.load_from_df(merged_data[['UserID', 'MovieID', 'Rating']], reader)\n",
    "\n",
    "# 训练和测试数据集划分\n",
    "trainset, testset = train_test_split(data, test_size=0.2)\n",
    "\n",
    "# 使用SVD进行协同过滤\n",
    "svd = SVD()\n",
    "svd.fit(trainset)\n",
    "\n",
    "# 评价模型性能\n",
    "predictions = svd.test(testset)\n",
    "print(\"RMSE: \", accuracy.rmse(predictions))\n",
    "print(\"MAE: \", accuracy.mae(predictions))\n",
    "\n",
    "# 使用TF-IDF进行内容过滤\n",
    "tfidf = TfidfVectorizer(stop_words='english')\n",
    "tfidf_matrix = tfidf.fit_transform(movies['Genres'])\n",
    "cosine_sim = cosine_similarity(tfidf_matrix, tfidf_matrix)\n",
    "\n",
    "# 协同过滤推荐\n",
    "def collaborative_filtering_recommendations(user_id, n=10):\n",
    "    user_ratings = ratings[ratings['UserID'] == user_id]\n",
    "    user_watched = user_ratings['MovieID'].tolist()\n",
    "    movie_ids = movies['MovieID'].tolist()\n",
    "    recommendations = []\n",
    "    for movie_id in movie_ids:\n",
    "        if (movie_id not in user_watched):\n",
    "            est = svd.predict(user_id, movie_id).est\n",
    "            recommendations.append((movie_id, est))\n",
    "    recommendations = sorted(recommendations, key=lambda x: x[1], reverse=True)\n",
    "    top_n_recommendations = [movies[movies['MovieID'] == movie_id]['Title'].values[0] for movie_id, _ in recommendations[:n]]\n",
    "    return top_n_recommendations\n",
    "\n",
    "# 内容过滤推荐\n",
    "def content_based_recommendations(title, n=10):\n",
    "    idx = movies[movies['Title'] == title].index[0]\n",
    "    sim_scores = list(enumerate(cosine_sim[idx]))\n",
    "    sim_scores = sorted(sim_scores, key=lambda x: x[1], reverse=True)\n",
    "    top_n_similar = [movies['Title'].iloc[i[0]] for i in sim_scores[1:n+1]]\n",
    "    return top_n_similar\n",
    "\n",
    "# 混合推荐\n",
    "def hybrid_recommendations(user_id, title, alpha=0.5, n=10):\n",
    "    content_recs = content_based_recommendations(title, n)\n",
    "    collab_recs = collaborative_filtering_recommendations(user_id, n)\n",
    "    \n",
    "    content_recs_set = set(content_recs)\n",
    "    collab_recs_set = set(collab_recs)\n",
    "    \n",
    "    common_recs = content_recs_set.intersection(collab_recs_set)\n",
    "    unique_recs = content_recs_set.union(collab_recs_set) - common_recs\n",
    "    \n",
    "    final_recs = list(common_recs) + list(unique_recs)\n",
    "    return final_recs[:n]\n",
    "\n",
    "# 模型评估\n",
    "def evaluate_model():\n",
    "    y_true = []\n",
    "    y_pred = []\n",
    "    for uid, iid, true_r, _ in ratings.itertuples(index=False):\n",
    "        y_true.append(true_r)\n",
    "        y_pred.append(round(svd.predict(uid, iid).est))  # 将预测值四舍五入以转化为离散值\n",
    "    precision = precision_score(y_true, y_pred, average='macro', zero_division=1)\n",
    "    recall = recall_score(y_true, y_pred, average='macro', zero_division=1)\n",
    "    f1 = f1_score(y_true, y_pred, average='macro', zero_division=1)\n",
    "    print(f'Precision: {precision:.4f}, Recall: {recall:.4f}, F1-Score: {f1:.4f}')\n",
    "\n",
    "# 示例使用\n",
    "user_id = 1\n",
    "movie_title = \"Toy Story (1995)\"\n",
    "print(\"协同过滤推荐:\", collaborative_filtering_recommendations(user_id))\n",
    "print(\"内容过滤推荐:\", content_based_recommendations(movie_title))\n",
    "print(\"混合推荐:\", hybrid_recommendations(user_id, movie_title))\n",
    "\n",
    "# 评估模型\n",
    "evaluate_model()\n"
   ]
  },
  {
   "cell_type": "code",
   "execution_count": 2,
   "metadata": {},
   "outputs": [],
   "source": [
    "# ratings = pd.read_csv('./ml-1m/ratings.dat', sep='::', header=None, names=['UserID', 'MovieID', 'Rating', 'Timestamp'], engine='python')\n",
    "# movies = pd.read_csv('./ml-1m/movies.dat', sep='::', header=None, names=['MovieID', 'Title', 'Genres'], engine='python', encoding='ISO-8859-1')\n",
    "# users = pd.read_csv('./ml-1m/users.dat', sep='::', header=None, names=['UserID', 'Gender', 'Age', 'Occupation', 'Zip-code'], engine='python')"
   ]
  },
  {
   "cell_type": "code",
   "execution_count": 3,
   "metadata": {},
   "outputs": [],
   "source": [
    "import torch\n",
    "torch.cuda.empty_cache()"
   ]
  },
  {
   "cell_type": "code",
   "execution_count": 9,
   "metadata": {},
   "outputs": [
    {
     "name": "stderr",
     "output_type": "stream",
     "text": [
      "Epoch 1: 100%|██████████| 95/95 [00:00<00:00, 104.15batch/s, loss=0.48] \n"
     ]
    },
    {
     "name": "stdout",
     "output_type": "stream",
     "text": [
      "Epoch 1, Loss: 0.4800\n"
     ]
    },
    {
     "name": "stderr",
     "output_type": "stream",
     "text": [
      "Epoch 2: 100%|██████████| 95/95 [00:00<00:00, 230.56batch/s, loss=0.41] \n"
     ]
    },
    {
     "name": "stdout",
     "output_type": "stream",
     "text": [
      "Epoch 2, Loss: 0.4098\n"
     ]
    },
    {
     "name": "stderr",
     "output_type": "stream",
     "text": [
      "Epoch 3: 100%|██████████| 95/95 [00:00<00:00, 217.04batch/s, loss=0.39]  \n"
     ]
    },
    {
     "name": "stdout",
     "output_type": "stream",
     "text": [
      "Epoch 3, Loss: 0.3901\n"
     ]
    },
    {
     "name": "stderr",
     "output_type": "stream",
     "text": [
      "Epoch 4: 100%|██████████| 95/95 [00:00<00:00, 226.84batch/s, loss=0.38]  \n"
     ]
    },
    {
     "name": "stdout",
     "output_type": "stream",
     "text": [
      "Epoch 4, Loss: 0.3804\n"
     ]
    },
    {
     "name": "stderr",
     "output_type": "stream",
     "text": [
      "Epoch 5: 100%|██████████| 95/95 [00:00<00:00, 247.29batch/s, loss=0.373] \n"
     ]
    },
    {
     "name": "stdout",
     "output_type": "stream",
     "text": [
      "Epoch 5, Loss: 0.3732\n"
     ]
    },
    {
     "name": "stderr",
     "output_type": "stream",
     "text": [
      "Epoch 6: 100%|██████████| 95/95 [00:00<00:00, 248.43batch/s, loss=0.368] \n"
     ]
    },
    {
     "name": "stdout",
     "output_type": "stream",
     "text": [
      "Epoch 6, Loss: 0.3679\n"
     ]
    },
    {
     "name": "stderr",
     "output_type": "stream",
     "text": [
      "Epoch 7: 100%|██████████| 95/95 [00:00<00:00, 245.02batch/s, loss=0.363] \n"
     ]
    },
    {
     "name": "stdout",
     "output_type": "stream",
     "text": [
      "Epoch 7, Loss: 0.3628\n"
     ]
    },
    {
     "name": "stderr",
     "output_type": "stream",
     "text": [
      "Epoch 8: 100%|██████████| 95/95 [00:00<00:00, 243.10batch/s, loss=0.359] \n"
     ]
    },
    {
     "name": "stdout",
     "output_type": "stream",
     "text": [
      "Epoch 8, Loss: 0.3586\n"
     ]
    },
    {
     "name": "stderr",
     "output_type": "stream",
     "text": [
      "Epoch 9: 100%|██████████| 95/95 [00:00<00:00, 241.03batch/s, loss=0.356] \n"
     ]
    },
    {
     "name": "stdout",
     "output_type": "stream",
     "text": [
      "Epoch 9, Loss: 0.3556\n"
     ]
    },
    {
     "name": "stderr",
     "output_type": "stream",
     "text": [
      "Epoch 10: 100%|██████████| 95/95 [00:00<00:00, 242.41batch/s, loss=0.353] \n"
     ]
    },
    {
     "name": "stdout",
     "output_type": "stream",
     "text": [
      "Epoch 10, Loss: 0.3532\n"
     ]
    },
    {
     "name": "stderr",
     "output_type": "stream",
     "text": [
      "Epoch 11: 100%|██████████| 95/95 [00:00<00:00, 227.43batch/s, loss=0.351] \n"
     ]
    },
    {
     "name": "stdout",
     "output_type": "stream",
     "text": [
      "Epoch 11, Loss: 0.3512\n"
     ]
    },
    {
     "name": "stderr",
     "output_type": "stream",
     "text": [
      "Epoch 12: 100%|██████████| 95/95 [00:00<00:00, 224.47batch/s, loss=0.35]  \n"
     ]
    },
    {
     "name": "stdout",
     "output_type": "stream",
     "text": [
      "Epoch 12, Loss: 0.3497\n"
     ]
    },
    {
     "name": "stderr",
     "output_type": "stream",
     "text": [
      "Epoch 13: 100%|██████████| 95/95 [00:00<00:00, 233.99batch/s, loss=0.348] \n"
     ]
    },
    {
     "name": "stdout",
     "output_type": "stream",
     "text": [
      "Epoch 13, Loss: 0.3479\n"
     ]
    },
    {
     "name": "stderr",
     "output_type": "stream",
     "text": [
      "Epoch 14: 100%|██████████| 95/95 [00:00<00:00, 239.68batch/s, loss=0.347] \n"
     ]
    },
    {
     "name": "stdout",
     "output_type": "stream",
     "text": [
      "Epoch 14, Loss: 0.3472\n"
     ]
    },
    {
     "name": "stderr",
     "output_type": "stream",
     "text": [
      "Epoch 15: 100%|██████████| 95/95 [00:00<00:00, 231.63batch/s, loss=0.346] \n"
     ]
    },
    {
     "name": "stdout",
     "output_type": "stream",
     "text": [
      "Epoch 15, Loss: 0.3460\n"
     ]
    },
    {
     "name": "stderr",
     "output_type": "stream",
     "text": [
      "Epoch 16: 100%|██████████| 95/95 [00:00<00:00, 237.59batch/s, loss=0.345] \n"
     ]
    },
    {
     "name": "stdout",
     "output_type": "stream",
     "text": [
      "Epoch 16, Loss: 0.3447\n"
     ]
    },
    {
     "name": "stderr",
     "output_type": "stream",
     "text": [
      "Epoch 17: 100%|██████████| 95/95 [00:00<00:00, 230.35batch/s, loss=0.344] \n"
     ]
    },
    {
     "name": "stdout",
     "output_type": "stream",
     "text": [
      "Epoch 17, Loss: 0.3438\n"
     ]
    },
    {
     "name": "stderr",
     "output_type": "stream",
     "text": [
      "Epoch 18: 100%|██████████| 95/95 [00:00<00:00, 227.15batch/s, loss=0.344] \n"
     ]
    },
    {
     "name": "stdout",
     "output_type": "stream",
     "text": [
      "Epoch 18, Loss: 0.3436\n"
     ]
    },
    {
     "name": "stderr",
     "output_type": "stream",
     "text": [
      "Epoch 19: 100%|██████████| 95/95 [00:00<00:00, 232.91batch/s, loss=0.342] \n"
     ]
    },
    {
     "name": "stdout",
     "output_type": "stream",
     "text": [
      "Epoch 19, Loss: 0.3423\n"
     ]
    },
    {
     "name": "stderr",
     "output_type": "stream",
     "text": [
      "Epoch 20: 100%|██████████| 95/95 [00:00<00:00, 227.13batch/s, loss=0.342] \n"
     ]
    },
    {
     "name": "stdout",
     "output_type": "stream",
     "text": [
      "Epoch 20, Loss: 0.3416\n"
     ]
    },
    {
     "name": "stderr",
     "output_type": "stream",
     "text": [
      "Epoch 21: 100%|██████████| 95/95 [00:00<00:00, 237.01batch/s, loss=0.341] \n"
     ]
    },
    {
     "name": "stdout",
     "output_type": "stream",
     "text": [
      "Epoch 21, Loss: 0.3406\n"
     ]
    },
    {
     "name": "stderr",
     "output_type": "stream",
     "text": [
      "Epoch 22: 100%|██████████| 95/95 [00:00<00:00, 212.69batch/s, loss=0.34]  \n"
     ]
    },
    {
     "name": "stdout",
     "output_type": "stream",
     "text": [
      "Epoch 22, Loss: 0.3400\n"
     ]
    },
    {
     "name": "stderr",
     "output_type": "stream",
     "text": [
      "Epoch 23: 100%|██████████| 95/95 [00:00<00:00, 220.17batch/s, loss=0.339] \n"
     ]
    },
    {
     "name": "stdout",
     "output_type": "stream",
     "text": [
      "Epoch 23, Loss: 0.3392\n"
     ]
    },
    {
     "name": "stderr",
     "output_type": "stream",
     "text": [
      "Epoch 24: 100%|██████████| 95/95 [00:00<00:00, 216.34batch/s, loss=0.338] \n"
     ]
    },
    {
     "name": "stdout",
     "output_type": "stream",
     "text": [
      "Epoch 24, Loss: 0.3384\n"
     ]
    },
    {
     "name": "stderr",
     "output_type": "stream",
     "text": [
      "Epoch 25: 100%|██████████| 95/95 [00:00<00:00, 229.36batch/s, loss=0.338] \n"
     ]
    },
    {
     "name": "stdout",
     "output_type": "stream",
     "text": [
      "Epoch 25, Loss: 0.3381\n"
     ]
    },
    {
     "name": "stderr",
     "output_type": "stream",
     "text": [
      "Epoch 26: 100%|██████████| 95/95 [00:00<00:00, 233.09batch/s, loss=0.338] \n"
     ]
    },
    {
     "name": "stdout",
     "output_type": "stream",
     "text": [
      "Epoch 26, Loss: 0.3376\n"
     ]
    },
    {
     "name": "stderr",
     "output_type": "stream",
     "text": [
      "Epoch 27: 100%|██████████| 95/95 [00:00<00:00, 226.47batch/s, loss=0.337] \n"
     ]
    },
    {
     "name": "stdout",
     "output_type": "stream",
     "text": [
      "Epoch 27, Loss: 0.3368\n"
     ]
    },
    {
     "name": "stderr",
     "output_type": "stream",
     "text": [
      "Epoch 28: 100%|██████████| 95/95 [00:00<00:00, 241.09batch/s, loss=0.336] \n"
     ]
    },
    {
     "name": "stdout",
     "output_type": "stream",
     "text": [
      "Epoch 28, Loss: 0.3361\n"
     ]
    },
    {
     "name": "stderr",
     "output_type": "stream",
     "text": [
      "Epoch 29: 100%|██████████| 95/95 [00:00<00:00, 239.01batch/s, loss=0.336] \n"
     ]
    },
    {
     "name": "stdout",
     "output_type": "stream",
     "text": [
      "Epoch 29, Loss: 0.3356\n"
     ]
    },
    {
     "name": "stderr",
     "output_type": "stream",
     "text": [
      "Epoch 30: 100%|██████████| 95/95 [00:00<00:00, 224.18batch/s, loss=0.335] \n"
     ]
    },
    {
     "name": "stdout",
     "output_type": "stream",
     "text": [
      "Epoch 30, Loss: 0.3352\n"
     ]
    },
    {
     "name": "stderr",
     "output_type": "stream",
     "text": [
      "Epoch 31: 100%|██████████| 95/95 [00:00<00:00, 214.64batch/s, loss=0.335] \n"
     ]
    },
    {
     "name": "stdout",
     "output_type": "stream",
     "text": [
      "Epoch 31, Loss: 0.3345\n"
     ]
    },
    {
     "name": "stderr",
     "output_type": "stream",
     "text": [
      "Epoch 32: 100%|██████████| 95/95 [00:00<00:00, 239.20batch/s, loss=0.334] \n"
     ]
    },
    {
     "name": "stdout",
     "output_type": "stream",
     "text": [
      "Epoch 32, Loss: 0.3338\n"
     ]
    },
    {
     "name": "stderr",
     "output_type": "stream",
     "text": [
      "Epoch 33: 100%|██████████| 95/95 [00:00<00:00, 234.07batch/s, loss=0.333] \n"
     ]
    },
    {
     "name": "stdout",
     "output_type": "stream",
     "text": [
      "Epoch 33, Loss: 0.3330\n"
     ]
    },
    {
     "name": "stderr",
     "output_type": "stream",
     "text": [
      "Epoch 34: 100%|██████████| 95/95 [00:00<00:00, 235.39batch/s, loss=0.333] \n"
     ]
    },
    {
     "name": "stdout",
     "output_type": "stream",
     "text": [
      "Epoch 34, Loss: 0.3325\n"
     ]
    },
    {
     "name": "stderr",
     "output_type": "stream",
     "text": [
      "Epoch 35: 100%|██████████| 95/95 [00:00<00:00, 237.86batch/s, loss=0.332] \n"
     ]
    },
    {
     "name": "stdout",
     "output_type": "stream",
     "text": [
      "Epoch 35, Loss: 0.3319\n"
     ]
    },
    {
     "name": "stderr",
     "output_type": "stream",
     "text": [
      "Epoch 36: 100%|██████████| 95/95 [00:00<00:00, 231.79batch/s, loss=0.331] \n"
     ]
    },
    {
     "name": "stdout",
     "output_type": "stream",
     "text": [
      "Epoch 36, Loss: 0.3314\n"
     ]
    },
    {
     "name": "stderr",
     "output_type": "stream",
     "text": [
      "Epoch 37: 100%|██████████| 95/95 [00:00<00:00, 232.16batch/s, loss=0.331] \n"
     ]
    },
    {
     "name": "stdout",
     "output_type": "stream",
     "text": [
      "Epoch 37, Loss: 0.3311\n"
     ]
    },
    {
     "name": "stderr",
     "output_type": "stream",
     "text": [
      "Epoch 38: 100%|██████████| 95/95 [00:00<00:00, 243.29batch/s, loss=0.331] \n"
     ]
    },
    {
     "name": "stdout",
     "output_type": "stream",
     "text": [
      "Epoch 38, Loss: 0.3306\n"
     ]
    },
    {
     "name": "stderr",
     "output_type": "stream",
     "text": [
      "Epoch 39: 100%|██████████| 95/95 [00:00<00:00, 224.27batch/s, loss=0.331] \n"
     ]
    },
    {
     "name": "stdout",
     "output_type": "stream",
     "text": [
      "Epoch 39, Loss: 0.3307\n"
     ]
    },
    {
     "name": "stderr",
     "output_type": "stream",
     "text": [
      "Epoch 40: 100%|██████████| 95/95 [00:00<00:00, 229.15batch/s, loss=0.33]  \n"
     ]
    },
    {
     "name": "stdout",
     "output_type": "stream",
     "text": [
      "Epoch 40, Loss: 0.3302\n"
     ]
    },
    {
     "name": "stderr",
     "output_type": "stream",
     "text": [
      "Epoch 41: 100%|██████████| 95/95 [00:00<00:00, 234.06batch/s, loss=0.329] \n"
     ]
    },
    {
     "name": "stdout",
     "output_type": "stream",
     "text": [
      "Epoch 41, Loss: 0.3294\n"
     ]
    },
    {
     "name": "stderr",
     "output_type": "stream",
     "text": [
      "Epoch 42: 100%|██████████| 95/95 [00:00<00:00, 228.74batch/s, loss=0.329] \n"
     ]
    },
    {
     "name": "stdout",
     "output_type": "stream",
     "text": [
      "Epoch 42, Loss: 0.3290\n"
     ]
    },
    {
     "name": "stderr",
     "output_type": "stream",
     "text": [
      "Epoch 43: 100%|██████████| 95/95 [00:00<00:00, 242.12batch/s, loss=0.328] \n"
     ]
    },
    {
     "name": "stdout",
     "output_type": "stream",
     "text": [
      "Epoch 43, Loss: 0.3285\n"
     ]
    },
    {
     "name": "stderr",
     "output_type": "stream",
     "text": [
      "Epoch 44: 100%|██████████| 95/95 [00:00<00:00, 242.53batch/s, loss=0.328] \n"
     ]
    },
    {
     "name": "stdout",
     "output_type": "stream",
     "text": [
      "Epoch 44, Loss: 0.3282\n"
     ]
    },
    {
     "name": "stderr",
     "output_type": "stream",
     "text": [
      "Epoch 45: 100%|██████████| 95/95 [00:00<00:00, 242.48batch/s, loss=0.328] \n"
     ]
    },
    {
     "name": "stdout",
     "output_type": "stream",
     "text": [
      "Epoch 45, Loss: 0.3278\n"
     ]
    },
    {
     "name": "stderr",
     "output_type": "stream",
     "text": [
      "Epoch 46: 100%|██████████| 95/95 [00:00<00:00, 252.75batch/s, loss=0.328] \n"
     ]
    },
    {
     "name": "stdout",
     "output_type": "stream",
     "text": [
      "Epoch 46, Loss: 0.3277\n"
     ]
    },
    {
     "name": "stderr",
     "output_type": "stream",
     "text": [
      "Epoch 47: 100%|██████████| 95/95 [00:00<00:00, 252.99batch/s, loss=0.327] \n"
     ]
    },
    {
     "name": "stdout",
     "output_type": "stream",
     "text": [
      "Epoch 47, Loss: 0.3273\n"
     ]
    },
    {
     "name": "stderr",
     "output_type": "stream",
     "text": [
      "Epoch 48: 100%|██████████| 95/95 [00:00<00:00, 253.13batch/s, loss=0.327] \n"
     ]
    },
    {
     "name": "stdout",
     "output_type": "stream",
     "text": [
      "Epoch 48, Loss: 0.3271\n"
     ]
    },
    {
     "name": "stderr",
     "output_type": "stream",
     "text": [
      "Epoch 49: 100%|██████████| 95/95 [00:00<00:00, 235.51batch/s, loss=0.327] \n"
     ]
    },
    {
     "name": "stdout",
     "output_type": "stream",
     "text": [
      "Epoch 49, Loss: 0.3266\n"
     ]
    },
    {
     "name": "stderr",
     "output_type": "stream",
     "text": [
      "Epoch 50: 100%|██████████| 95/95 [00:00<00:00, 249.39batch/s, loss=0.327] \n"
     ]
    },
    {
     "name": "stdout",
     "output_type": "stream",
     "text": [
      "Epoch 50, Loss: 0.3266\n",
      "RMSE: 0.8689\n",
      "Recommended movies for user 1:\n",
      "                                   Title                               Genres\n",
      "0                      Toy Story (1995)          Animation|Children's|Comedy\n",
      "33                          Babe (1995)              Children's|Comedy|Drama\n",
      "315    Shawshank Redemption, The (1994)                                Drama\n",
      "360               Lion King, The (1994)         Animation|Children's|Musical\n",
      "584                      Aladdin (1992)  Animation|Children's|Comedy|Musical\n",
      "591         Beauty and the Beast (1991)         Animation|Children's|Musical\n",
      "907            Wizard of Oz, The (1939)   Adventure|Children's|Drama|Musical\n",
      "1081  E.T. the Extra-Terrestrial (1982)      Children's|Drama|Fantasy|Sci-Fi\n",
      "2286               Bug's Life, A (1998)          Animation|Children's|Comedy\n",
      "3045                 Toy Story 2 (1999)          Animation|Children's|Comedy\n"
     ]
    }
   ],
   "source": [
    "import pandas as pd\n",
    "import numpy as np\n",
    "import torch\n",
    "import torch.nn as nn\n",
    "import torch.optim as optim\n",
    "from torch.utils.data import Dataset, DataLoader\n",
    "from sklearn.preprocessing import LabelEncoder\n",
    "from sklearn.metrics import mean_squared_error\n",
    "from math import sqrt\n",
    "from tqdm import tqdm\n",
    "\n",
    "# 加载数据\n",
    "ratings = pd.read_csv('./ml-1m/ratings.dat', sep='::', header=None, names=['UserID', 'MovieID', 'Rating', 'Timestamp'], engine='python')\n",
    "movies = pd.read_csv('./ml-1m/movies.dat', sep='::', header=None, names=['MovieID', 'Title', 'Genres'], engine='python', encoding='ISO-8859-1')\n",
    "users = pd.read_csv('./ml-1m/users.dat', sep='::', header=None, names=['UserID', 'Gender', 'Age', 'Occupation', 'Zip-code'], engine='python')\n",
    "\n",
    "# 数据预处理\n",
    "# 将用户的年龄和职业转化为类别特征\n",
    "age_encoder = LabelEncoder()\n",
    "occupation_encoder = LabelEncoder()\n",
    "gender_encoder = LabelEncoder()\n",
    "users['Age'] = age_encoder.fit_transform(users['Age'])\n",
    "users['Occupation'] = occupation_encoder.fit_transform(users['Occupation'])\n",
    "users['Gender'] = gender_encoder.fit_transform(users['Gender'])\n",
    "\n",
    "# 合并用户数据和评分数据\n",
    "merged_data = pd.merge(ratings, users, on='UserID')\n",
    "\n",
    "# 创建用户-物品评分矩阵\n",
    "user_movie_matrix = ratings.pivot(index='UserID', columns='MovieID', values='Rating').fillna(0)\n",
    "user_movie_matrix_np = user_movie_matrix.values\n",
    "\n",
    "# 定义Dataset类\n",
    "class AutoencoderDataset(Dataset):\n",
    "    def __init__(self, matrix):\n",
    "        self.matrix = matrix\n",
    "    \n",
    "    def __len__(self):\n",
    "        return len(self.matrix)\n",
    "    \n",
    "    def __getitem__(self, idx):\n",
    "        return torch.tensor(self.matrix[idx], dtype=torch.float)\n",
    "\n",
    "# 定义自编码器模型\n",
    "class Autoencoder(nn.Module):\n",
    "    def __init__(self, input_dim):\n",
    "        super(Autoencoder, self).__init__()\n",
    "        self.encoder = nn.Sequential(\n",
    "            nn.Linear(input_dim, 128),\n",
    "            nn.ReLU(),\n",
    "            nn.Linear(128, 64),\n",
    "            nn.ReLU()\n",
    "        )\n",
    "        self.decoder = nn.Sequential(\n",
    "            nn.Linear(64, 128),\n",
    "            nn.ReLU(),\n",
    "            nn.Linear(128, input_dim)\n",
    "        )\n",
    "    \n",
    "    def forward(self, x):\n",
    "        encoded = self.encoder(x)\n",
    "        decoded = self.decoder(encoded)\n",
    "        return decoded\n",
    "\n",
    "# 设置设备为GPU\n",
    "device = torch.device('cuda' if torch.cuda.is_available() else 'cpu')\n",
    "\n",
    "# 实例化数据集\n",
    "dataset = AutoencoderDataset(user_movie_matrix_np)\n",
    "dataloader = DataLoader(dataset, batch_size=64, shuffle=True)\n",
    "\n",
    "# 实例化模型\n",
    "input_dim = user_movie_matrix_np.shape[1]\n",
    "model = Autoencoder(input_dim).to(device)\n",
    "\n",
    "# 定义损失函数和优化器\n",
    "criterion = nn.MSELoss()\n",
    "optimizer = optim.Adam(model.parameters(), lr=0.001)\n",
    "\n",
    "# 训练模型\n",
    "num_epochs = 50\n",
    "for epoch in range(num_epochs):\n",
    "    model.train()\n",
    "    train_loss = 0\n",
    "    with tqdm(dataloader, unit=\"batch\") as tepoch:\n",
    "        tepoch.set_description(f\"Epoch {epoch+1}\")\n",
    "        for data in tepoch:\n",
    "            data = data.to(device)\n",
    "            \n",
    "            optimizer.zero_grad()\n",
    "            outputs = model(data)\n",
    "            loss = criterion(outputs, data)\n",
    "            loss.backward()\n",
    "            optimizer.step()\n",
    "            train_loss += loss.item() * data.size(0)\n",
    "            tepoch.set_postfix(loss=train_loss / len(dataloader.dataset))\n",
    "    train_loss /= len(dataloader.dataset)\n",
    "    print(f'Epoch {epoch+1}, Loss: {train_loss:.4f}')\n",
    "\n",
    "# 评估模型\n",
    "def evaluate_model():\n",
    "    model.eval()\n",
    "    reconstructed = []\n",
    "    with torch.no_grad():\n",
    "        for data in dataloader:\n",
    "            data = data.to(device)\n",
    "            outputs = model(data)\n",
    "            reconstructed.extend(outputs.cpu().numpy())\n",
    "    \n",
    "    reconstructed = np.array(reconstructed)\n",
    "    rmse = sqrt(mean_squared_error(user_movie_matrix_np, reconstructed))\n",
    "    print(f'RMSE: {rmse:.4f}')\n",
    "\n",
    "# 评估模型\n",
    "evaluate_model()\n",
    "\n",
    "# 示例使用\n",
    "def recommend_movies(user_id, n=10):\n",
    "    user_index = user_id - 1  # 假设用户ID从1开始\n",
    "    user_vector = torch.tensor(user_movie_matrix_np[user_index], dtype=torch.float).to(device)\n",
    "    with torch.no_grad():\n",
    "        reconstructed_vector = model(user_vector).cpu().numpy()\n",
    "    \n",
    "    recommended_movie_indices = reconstructed_vector.argsort()[-n:][::-1]\n",
    "    recommended_movie_ids = [user_movie_matrix.columns[i] for i in recommended_movie_indices]\n",
    "    recommended_movies = movies[movies['MovieID'].isin(recommended_movie_ids)]\n",
    "    return recommended_movies\n",
    "\n",
    "# 示例使用\n",
    "user_id = 1\n",
    "recommended_movies = recommend_movies(user_id)\n",
    "print(f'Recommended movies for user {user_id}:\\n', recommended_movies[['Title', 'Genres']])\n"
   ]
  }
 ],
 "metadata": {
  "kernelspec": {
   "display_name": "base",
   "language": "python",
   "name": "python3"
  },
  "language_info": {
   "codemirror_mode": {
    "name": "ipython",
    "version": 3
   },
   "file_extension": ".py",
   "mimetype": "text/x-python",
   "name": "python",
   "nbconvert_exporter": "python",
   "pygments_lexer": "ipython3",
   "version": "3.11.7"
  }
 },
 "nbformat": 4,
 "nbformat_minor": 2
}
